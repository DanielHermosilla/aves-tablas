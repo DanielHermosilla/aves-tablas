{
 "cells": [
  {
   "cell_type": "markdown",
   "metadata": {},
   "source": [
    "# Ejemplo de Clustering con HDBSCAN\n",
    "\n",
    "Un algoritmo de clustering espacial es DBSCAN, que está disponible en ``sklearn.cluster.DBSCAN``.\n",
    "\n",
    "![](https://upload.wikimedia.org/wikipedia/commons/thumb/a/af/DBSCAN-Illustration.svg/800px-DBSCAN-Illustration.svg.png)\n",
    "\n",
    "Su nombre significa \"barrido basado en densidad.\" Lo que hace DBSCAN es definir tres tipos de puntos en función de los otros puntos que lo rodean:\n",
    "\n",
    "- _Núcleos_ (puntos rojos): conjuntos de puntos que, entre sí, están dentro de un radio de distancia y, en total, son más que una cierta cantidad especificada como hiperparámetro.\n",
    "- _Puntos Alcanzables_ (puntos amarillos): puntos que no son núcleos, pero que están dentro del umbral de tolerancia de distancia a puntos núcleos.\n",
    "- _Ruido_ (punto azul): puntos que no son alcanzables desde los núcleos.\n",
    "\n",
    "Considerando eso, se vuelve intuitivo el hecho de que no necesitamos especificar el número de clusters, sino el umbral de distancia para la densidad, y, por tanto, que la forma de los clusters puede ser arbitraria. Al mismo tiempo, habrá puntos que no estarán agrupados en clusters.\n",
    "\n",
    "Veremos un ejemplo de aplicar una versión de DBSCAN que está en el estado del arte, conocida como [HDBSCAN](https://hdbscan.readthedocs.io/en/latest/) (por Hierarchical DBSCAN). Para instalarla debemos utilizar el siguiente comando:\n",
    "\n",
    "`pip install hdbscan`\n",
    "\n",
    "Su API es la misma de Scikit-Learn, así que será sencillo familiarizarnos con su uso.\n",
    "\n",
    "La diferencia entre HDBSCAN y DBSCAN es que HDBSCAN tiene una noción de distancia umbral flexible. Esto es útil cuando la densidad de los puntos varía y, por tanto, un único umbral podría llevar a resultados erróneos."
   ]
  },
  {
   "cell_type": "code",
   "execution_count": null,
   "metadata": {},
   "outputs": [],
   "source": [
    "# análisis\n",
    "import pandas as pd\n",
    "import geopandas as gpd\n",
    "import numpy as np\n",
    "\n",
    "# clustering\n",
    "from hdbscan import HDBSCAN\n",
    "\n",
    "# visualización\n",
    "import matplotlib.pyplot as plt\n",
    "import seaborn as sns\n",
    "import matplotlib.patheffects as path_effects\n",
    "from matplotlib.colors import rgb2hex\n",
    "\n",
    "# Esto configura la apariencia de los gráficos utilizando configuraciones de seaborn\n",
    "sns.set(context='notebook', style='ticks', palette='inferno', font='Linux Biolinum O', font_scale=1.1)\n",
    "\n",
    "# Esto es una instrucción de Jupyter que hace que los gráficos se desplieguen en el notebook\n",
    "%matplotlib inline\n",
    "%config InlineBackend.figure_format = 'retina'"
   ]
  },
  {
   "cell_type": "code",
   "execution_count": null,
   "metadata": {},
   "outputs": [],
   "source": [
    "import sys\n",
    "from pathlib import Path\n",
    "\n",
    "AVES_ROOT = Path(\"..\") / \"..\" / \"..\"\n",
    "\n",
    "EOD_PATH = AVES_ROOT / \"data\" / \"external\" / \"EOD_STGO\"\n",
    "EOD_PATH"
   ]
  },
  {
   "cell_type": "code",
   "execution_count": null,
   "metadata": {},
   "outputs": [],
   "source": [
    "zones = gpd.read_file(AVES_ROOT / \"data\" / \"processed\" / \"scl_zonas_urbanas.json\")\n",
    "zones.plot()"
   ]
  },
  {
   "cell_type": "code",
   "execution_count": null,
   "metadata": {},
   "outputs": [],
   "source": [
    "from aves.data import eod\n",
    "\n",
    "hogares = eod.read_homes(EOD_PATH)\n",
    "personas = eod.read_people(EOD_PATH).merge(hogares)\n",
    "\n",
    "viajes = eod.read_trips(EOD_PATH).merge(personas).merge(hogares)\n",
    "\n",
    "viajes[\"PesoLaboral\"] = viajes[\"FactorLaboralNormal\"] * viajes[\"Factor_LaboralNormal\"]\n",
    "\n",
    "viajes = viajes[pd.notnull(viajes[\"PesoLaboral\"])]\n",
    "\n",
    "viajes.columns"
   ]
  },
  {
   "cell_type": "code",
   "execution_count": null,
   "metadata": {},
   "outputs": [],
   "source": []
  },
  {
   "cell_type": "code",
   "execution_count": null,
   "metadata": {},
   "outputs": [],
   "source": [
    "sns.countplot(y=viajes['Proposito'], color='grey')\n",
    "sns.despine()"
   ]
  },
  {
   "cell_type": "code",
   "execution_count": null,
   "metadata": {},
   "outputs": [],
   "source": [
    "propositos = ['Al trabajo', 'Al estudio', 'Trámites', 'De salud', 'De compras', 'Recreación']"
   ]
  },
  {
   "cell_type": "markdown",
   "metadata": {},
   "source": [
    "Visualicemos los destinos de esos viajes:"
   ]
  },
  {
   "cell_type": "code",
   "execution_count": null,
   "metadata": {},
   "outputs": [],
   "source": [
    "from aves.features.geo import to_point_geodataframe\n",
    "\n",
    "destinos_viajes = to_point_geodataframe(\n",
    "    viajes, \"DestinoCoordX\", \"DestinoCoordY\", crs=\"epsg:5361\"\n",
    ").pipe(lambda x: gpd.sjoin(x.to_crs(zones.crs), zones, op=\"within\"))\n",
    "\n",
    "destinos_viajes.plot(marker=\".\", markersize=1, alpha=0.5)"
   ]
  },
  {
   "cell_type": "code",
   "execution_count": null,
   "metadata": {},
   "outputs": [],
   "source": [
    "from aves.visualization.figures import small_multiples_from_geodataframe\n",
    "from aves.visualization.maps import dot_map\n",
    "\n",
    "fig, axes = small_multiples_from_geodataframe(zones, len(propositos), height=7, col_wrap=3)\n",
    "\n",
    "for prop, ax in zip(propositos, axes.flatten()):\n",
    "    zones.plot(facecolor=\"#efefef\", edgecolor=\"none\", ax=ax)\n",
    "    dot_map(\n",
    "        ax,\n",
    "        destinos_viajes[destinos_viajes[\"Proposito\"] == prop],\n",
    "        size=10,\n",
    "        scale=0.15,\n",
    "        alpha=0.5,\n",
    "    )\n",
    "    ax.set_title(prop)"
   ]
  },
  {
   "cell_type": "code",
   "execution_count": null,
   "metadata": {},
   "outputs": [],
   "source": []
  },
  {
   "cell_type": "markdown",
   "metadata": {},
   "source": [
    "## Mini-Proyecto: ¿Cuántos Centros hay en la Ciudad?¿Qué los caracteriza?\n",
    "\n",
    "Como vemos en las imágenes previas, viajes hay en toda la ciudad. Sin embargo, sabemos que no todos los sectores de la ciudad reciben afluencias grandes de personas.\n",
    "\n",
    "El centro histórico de Santiago es sólo uno, pero lugares que concentran actividades hay varios. Entonces, ¿cuántos son? Saberlo nos permitiría apoyar la planificación de la red de transporte, el fomento de instalación en centros sub-desarrollados, o incluso la identificación de oportunidades para crear un nuevo centro.\n",
    "\n",
    "Definiremos como _centro_ un espacio de la ciudad en el que se concentran actividades. Y, utilizando Machine Learning no supervisado, buscaremos una manera de responder la pregunta, **agrupando los destinos de los viajes como una señal de la afluencia que tiene un lugar**."
   ]
  },
  {
   "cell_type": "markdown",
   "metadata": {},
   "source": [
    "### Elección de Viajes a Considerar\n",
    "\n",
    "No todos los viajes son iguales. Como vemos en el primer gráfico, los viajes de regreso a casa son los más frecuentes, y están dispersos por toda la ciudad. Lo que queremos son estudiar _las actividades que se hacen fuera de casa_.\n",
    "\n",
    "Por simplicidad nos enfocaremos en las seis actividades que seleccionamos antes."
   ]
  },
  {
   "cell_type": "code",
   "execution_count": null,
   "metadata": {},
   "outputs": [],
   "source": [
    "analysis_trips = destinos_viajes[destinos_viajes[\"Proposito\"].isin(propositos)].to_crs(\n",
    "    \"epsg:5361\"\n",
    ")\n",
    "len(analysis_trips)"
   ]
  },
  {
   "cell_type": "markdown",
   "metadata": {},
   "source": [
    "Creamos nuestra matriz de características: las posiciones de los viajes."
   ]
  },
  {
   "cell_type": "code",
   "execution_count": null,
   "metadata": {},
   "outputs": [],
   "source": [
    "X = np.vstack((analysis_trips.geometry.x, analysis_trips.geometry.y)).T\n",
    "X"
   ]
  },
  {
   "cell_type": "markdown",
   "metadata": {},
   "source": [
    "Realizamos el procedimiento estándar:\n",
    "\n",
    "- Inicializar instancia del modelo (que ya importamos en el preámbulo) con sus hiperparámetros. Usaremos dos: \n",
    "  - `min_cluster_size`: cantidad mínima de viajes para considerar un cluster.\n",
    "  - `min_samples`: cantidad mínima de puntos núcleo para considerar un cluster.\n",
    "- Ajustar la matriz de características `X`\n",
    "- Predecir el vector de etiquetas `y`\n",
    "\n",
    "Los últimos dos pasos los podemos realizar en una sola llamada al método `fit_predict(X)`:"
   ]
  },
  {
   "cell_type": "code",
   "execution_count": null,
   "metadata": {},
   "outputs": [],
   "source": [
    "dbscan = HDBSCAN(min_cluster_size=400, min_samples=25)\n",
    "analysis_trips[\"cluster\"] = dbscan.fit_predict(X)\n",
    "cluster_ids = analysis_trips[\"cluster\"].value_counts()\n",
    "len(cluster_ids) - 1"
   ]
  },
  {
   "cell_type": "markdown",
   "metadata": {},
   "source": [
    "Con esos hiperparámetros tenemos 9 clusters. Ésta es la cantidad de viajes que poseen:"
   ]
  },
  {
   "cell_type": "code",
   "execution_count": null,
   "metadata": {},
   "outputs": [],
   "source": [
    "cluster_ids"
   ]
  },
  {
   "cell_type": "markdown",
   "metadata": {},
   "source": [
    "Para identificar los clusters utilizaremos una paleta de colores conocida como `husl`, que varía el tono de un color a otro:"
   ]
  },
  {
   "cell_type": "code",
   "execution_count": null,
   "metadata": {},
   "outputs": [],
   "source": [
    "colors = sns.color_palette('husl', n_colors=len(cluster_ids) - 1)\n",
    "sns.palplot(colors)"
   ]
  },
  {
   "cell_type": "markdown",
   "metadata": {},
   "source": [
    "Crearemos un diccionario para pintar los puntos de los clusters. Le asignaremos el color gris a los puntos de ruido:"
   ]
  },
  {
   "cell_type": "code",
   "execution_count": null,
   "metadata": {},
   "outputs": [],
   "source": [
    "palette = dict(zip(range(len(cluster_ids) - 1), map(rgb2hex, colors)))\n",
    "palette[-1] = '#afafaf'\n",
    "palette"
   ]
  },
  {
   "cell_type": "code",
   "execution_count": null,
   "metadata": {},
   "outputs": [],
   "source": [
    "cluster_centroids = {}\n",
    "\n",
    "for cluster_id in cluster_ids.index:\n",
    "    cluster_trips = analysis_trips[analysis_trips.cluster == cluster_id]\n",
    "\n",
    "    cluster_centroids[cluster_id] = (\n",
    "        cluster_trips.geometry.x.mean(),\n",
    "        cluster_trips.geometry.y.mean(),\n",
    "    )\n",
    "\n",
    "cluster_centroids"
   ]
  },
  {
   "cell_type": "code",
   "execution_count": null,
   "metadata": {},
   "outputs": [],
   "source": [
    "zones_m = zones.to_crs('epsg:5361')\n",
    "fig, ax = small_multiples_from_geodataframe(zones_m, 1, height=12)\n",
    "\n",
    "zones_m.plot(ax=ax, edgecolor=\"grey\", facecolor=\"#efefef\")\n",
    "\n",
    "# pintamos los puntitos de cada cluster\n",
    "for cluster_id in sorted(cluster_ids.index):\n",
    "    # viajes correspondientes a cada cluster\n",
    "    cluster_trips = analysis_trips[analysis_trips.cluster == cluster_id]\n",
    "\n",
    "    # dibujamos directamente con matplotlib\n",
    "    cluster_trips.plot(ax=ax, alpha=0.8, markersize=2, color=palette[cluster_id])\n",
    "\n",
    "    # para los clusters, agregamos la etiqueta correspondiente para poder identificarlos\n",
    "    # pondremos la etiqueta en el promedio de las posiciones que tiene cada cluster\n",
    "    if cluster_id >= 0:\n",
    "        t = ax.text(\n",
    "            cluster_centroids[cluster_id][0],\n",
    "            cluster_centroids[cluster_id][1],\n",
    "            str(cluster_id),\n",
    "            horizontalalignment=\"center\",\n",
    "            fontsize=18,\n",
    "            fontweight=\"bold\",\n",
    "            color=\"white\",\n",
    "        )\n",
    "\n",
    "        # éste es un efecto gráfico que facilita la comprensión del texto\n",
    "        t.set_path_effects(\n",
    "            [\n",
    "                path_effects.Stroke(linewidth=2, foreground=\"black\"),\n",
    "                path_effects.Normal(),\n",
    "            ]\n",
    "        )\n"
   ]
  },
  {
   "cell_type": "markdown",
   "metadata": {},
   "source": [
    "¿Qué les parecen los resultados?\n",
    "\n",
    "Consideraciones:\n",
    "\n",
    "- El centro histórico está correctamente identificado.\n",
    "- El eje Providencia aparece como un gran centro, y parte de Vitacura y Las Condes también. Esto es coherente con los distritos comerciales y de negocios que hay en el sector.\n",
    "- ¿Maipú y San Bernardo casi completas son centros? Seguramente hay que ajustar algo, porque si bien podrían serlo (sobretodo el centro de Maipú), su extensión no es tan larga.\n",
    "- Plaza de Puente Alto y Concha y Toro: esto sí tiene sentido, considerando la cantidad de lugares de trabajo y servicios que hay en esos lugares.\n",
    "- Vicuña Mackenna y Avenida La Florida: ídem a lo anterior.\n",
    "- Gran Avenida: también, sobretodo considerando el polo comercial que es.\n",
    "\n",
    "Hay que jugar con los hiperparámetros para entender cómo se comporta el algoritmo, y así poder ajustarlos para obtener una mejor respuesta. Verán que algunos parámetros son más sensibles que otros, y pueden introducir grandes cambios en los resultados.\n",
    "\n",
    "De momento, asumamos que estamos contentos con la respuesta.\n",
    "\n",
    "### ¿Qué sigue?\n",
    "\n",
    "El siguiente paso es buscar comprender qué caracteriza a cada uno de estos clusters.\n",
    "\n",
    "Por ejemplo, podríamos preguntarnos cómo llega la gente a estos lugares. La encuesta tiene un atributo llamado `ModoDifusion` que indica el o los modos de transporte utilizados en el viaje:"
   ]
  },
  {
   "cell_type": "code",
   "execution_count": null,
   "metadata": {},
   "outputs": [],
   "source": [
    "sns.countplot(y=analysis_trips['ModoDifusion'], color='grey')\n",
    "sns.despine()"
   ]
  },
  {
   "cell_type": "markdown",
   "metadata": {},
   "source": [
    "Entonces podemos hacer ese cálculo por cada modo (o combinación). Para ello utilizaremos la operación `groupby`:"
   ]
  },
  {
   "cell_type": "code",
   "execution_count": null,
   "metadata": {},
   "outputs": [],
   "source": [
    "from aves.features.utils import normalize_rows\n",
    "\n",
    "mot_table = (\n",
    "    analysis_trips[analysis_trips[\"cluster\"] >= 0]\n",
    "    .drop_duplicates(subset=['Persona'], keep='first')\n",
    "    .groupby([\"cluster\", \"ModoDifusion\"])[\"PesoLaboral\"]\n",
    "    .sum()\n",
    "    .unstack()\n",
    "    .fillna(0)\n",
    "    .pipe(normalize_rows)\n",
    ")\n",
    "mot_table"
   ]
  },
  {
   "cell_type": "markdown",
   "metadata": {},
   "source": [
    "Podemos visualizar el resultado con un `HeatMap`:"
   ]
  },
  {
   "cell_type": "code",
   "execution_count": null,
   "metadata": {},
   "outputs": [],
   "source": [
    "plt.figure(figsize=(10, 7))\n",
    "sns.heatmap(mot_table, annot=True, linewidth=1)"
   ]
  },
  {
   "cell_type": "markdown",
   "metadata": {},
   "source": [
    "Una manera de facilitar nuestro análisis es ordenar la tabla de acuerdo a la similitud de uso de modos de transporte y de distribuciones por cluster. Esto lo podemos hacer con el método `sns.clustermap` (y aprovechemos de usar una escala más fácil de ver):"
   ]
  },
  {
   "cell_type": "code",
   "execution_count": null,
   "metadata": {},
   "outputs": [],
   "source": [
    "sns.clustermap(\n",
    "    mot_table, annot=True, linewidth=1, figsize=(12, 9), cmap=\"inferno_r\", method=\"ward\"\n",
    ")"
   ]
  },
  {
   "cell_type": "code",
   "execution_count": null,
   "metadata": {},
   "outputs": [],
   "source": [
    "mode_map = {\n",
    "    'Bicicleta': 'Activo',\n",
    "    'Taxi': 'Taxi',\n",
    "    'Bip! - Otros Privado': 'Bip!',\n",
    "    'Bip! - Otros Público': 'Bip!',\n",
    "    'Caminata': 'Activo',\n",
    "    'Otros': 'Auto',\n",
    "    'Taxi Colectivo': 'Taxi',\n",
    "    'Bip!': 'Bip!',\n",
    "    'Auto': 'Auto'\n",
    "}\n",
    "\n",
    "analysis_trips['ModoSimple'] = analysis_trips['ModoDifusion'].map(mode_map)"
   ]
  },
  {
   "cell_type": "code",
   "execution_count": null,
   "metadata": {},
   "outputs": [],
   "source": [
    "simple_mot_table = (\n",
    "    analysis_trips[analysis_trips[\"cluster\"] >= 0]\n",
    "    .groupby([\"cluster\", \"ModoSimple\"])[\"PesoLaboral\"]\n",
    "    .sum()\n",
    "    .unstack()\n",
    "    .fillna(0)\n",
    "    .pipe(normalize_rows)\n",
    ")\n",
    "sns.heatmap(simple_mot_table, annot=True, linewidth=1)"
   ]
  },
  {
   "cell_type": "code",
   "execution_count": null,
   "metadata": {},
   "outputs": [],
   "source": [
    "mot_order = simple_mot_table.mean().sort_values(ascending=False)\n",
    "mot_order"
   ]
  },
  {
   "cell_type": "code",
   "execution_count": null,
   "metadata": {},
   "outputs": [],
   "source": [
    "from aves.visualization.figures import figure_from_geodataframe\n",
    "from aves.visualization.colors import categorical_color_legend\n",
    "\n",
    "fig, ax = small_multiples_from_geodataframe(zones_m, 1, height=12)\n",
    "\n",
    "zones_m.plot(ax=ax, edgecolor=\"grey\", facecolor=\"#efefef\")\n",
    "\n",
    "# pintamos los puntitos de cada cluster\n",
    "for cluster_id in sorted(cluster_ids.index):\n",
    "    if cluster_id < 0:\n",
    "        continue\n",
    "    # viajes correspondientes a cada cluster\n",
    "    cluster_trips = analysis_trips[analysis_trips.cluster == cluster_id]\n",
    "\n",
    "    # dibujamos directamente con matplotlib\n",
    "    cluster_trips.plot(ax=ax, alpha=0.8, markersize=2, color=palette[cluster_id])\n",
    "\n",
    "    # posición en el gráfico (coordenadas absolutas)\n",
    "    pos = cluster_centroids[cluster_id]\n",
    "    p = ax.transData.transform_point(pos)\n",
    "    # posición en la figura (coordenadas relativas)\n",
    "    p = fig.transFigure.inverted().transform_point(p)\n",
    "\n",
    "    pie_size = 0.04\n",
    "    pie_bounds = [p[0] - pie_size * 0.5, p[1] - pie_size * 0.5, pie_size, pie_size]\n",
    "\n",
    "    box_inset = fig.add_axes(pie_bounds, label=cluster_id)\n",
    "    box_inset.pie(\n",
    "        simple_mot_table[mot_order.index].loc[cluster_id].values,\n",
    "        wedgeprops=dict(edgecolor=\"black\", linewidth=0.5),\n",
    "        colors=colors, startangle=90\n",
    "    )\n",
    "\n",
    "    pos_y = 1.0\n",
    "    va = \"bottom\"\n",
    "\n",
    "    t = box_inset.annotate(\n",
    "        cluster_id,\n",
    "        (0.5, pos_y),\n",
    "        xycoords=\"axes fraction\",\n",
    "        horizontalalignment=\"center\",\n",
    "        va=va,\n",
    "        fontsize=8,\n",
    "        fontweight=\"bold\",\n",
    "        color=\"white\",\n",
    "    )\n",
    "    t.set_path_effects(\n",
    "        [path_effects.Stroke(linewidth=2, foreground=\"black\"), path_effects.Normal()]\n",
    "    )\n",
    "\n",
    "categorical_color_legend(ax, colors, mot_order.index, loc='center left')"
   ]
  },
  {
   "cell_type": "markdown",
   "metadata": {},
   "source": [
    "### ¿Qué más hacer?\n",
    "\n",
    "Otra opción es tratar de buscar maneras de evaluar los resultados. Por ejemplo, comparando los clusters obtenidos con el uso de suelo del Servicio de Impuestos Internos, o los planes reguladores de cada comuna. ¿Coinciden los bordes obtenidos con los definidos por las autoridades? ¿O el uso de la ciudad se desmarca de los bordes impuestos administrativamente?\n",
    "\n",
    "Una manera podría ser visualizar dónde vive la gente que trabaja en cada cluster:"
   ]
  },
  {
   "cell_type": "code",
   "execution_count": null,
   "metadata": {},
   "outputs": [],
   "source": [
    "origenes_viajes = to_point_geodataframe(\n",
    "    analysis_trips[analysis_trips['cluster'] >= 0], \"OrigenCoordX\", \"OrigenCoordY\", \"epsg:5361\"\n",
    ")\n",
    "\n",
    "origenes_viajes.plot()"
   ]
  },
  {
   "cell_type": "code",
   "execution_count": null,
   "metadata": {},
   "outputs": [],
   "source": [
    "fig, axes = small_multiples_from_geodataframe(\n",
    "    zones_m, len(cluster_ids) - 1, height=7, col_wrap=4\n",
    ")\n",
    "\n",
    "for cluster_id, ax in zip(range(cluster_ids.index.max() + 1), axes.flatten()):\n",
    "    if cluster_id < 0:\n",
    "        continue\n",
    "    zones_m.plot(facecolor=\"#efefef\", edgecolor=\"none\", ax=ax)\n",
    "    origenes_viajes[origenes_viajes[\"cluster\"] == cluster_id].plot(ax=ax, markersize=2, marker='.')\n",
    "    analysis_trips[analysis_trips['cluster'] == cluster_id].plot(ax=ax, color=colors[cluster_id], markersize=2, marker='.')\n",
    "    ax.set_title(cluster_id)"
   ]
  },
  {
   "cell_type": "markdown",
   "metadata": {},
   "source": [
    "Como ven, es un algoritmo fácil de usar, y que, al mismo tiempo, tiene parámetros _algo_ intuitivos. \n",
    "\n",
    "Sin embargo, al igual que en todo otro modelo, ajustar los hiperparámetros requiere un trabajo constance y consciente. \n",
    "\n",
    "Y por supuesto también tiene limitaciones. Los datos que hemos utilizado son bidimensionales en lo que respecta al clustering. ¿Cómo podemos incorporar más variables? ¿Qué pasa con las funciones de distancia cuando hay más dimensiones involucradas? ¿Qué pasa cuando las dimensiones no tienen la misma semántica? Por ejemplo, uno pudiese querer clusterizar considerando también el ingreso de las personas. \n",
    "\n",
    "En conjunto con las preguntas exploratorias propuestas, entender las limitaciones y ventajas de un modelo son claves a la hora de decidir cuál utilizar. \n"
   ]
  },
  {
   "cell_type": "code",
   "execution_count": null,
   "metadata": {},
   "outputs": [],
   "source": []
  }
 ],
 "metadata": {
  "kernelspec": {
   "display_name": "Python 3",
   "language": "python",
   "name": "python3"
  },
  "language_info": {
   "codemirror_mode": {
    "name": "ipython",
    "version": 3
   },
   "file_extension": ".py",
   "mimetype": "text/x-python",
   "name": "python",
   "nbconvert_exporter": "python",
   "pygments_lexer": "ipython3",
   "version": "3.11.6"
  }
 },
 "nbformat": 4,
 "nbformat_minor": 2
}

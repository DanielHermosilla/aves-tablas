{
 "cells": [
  {
   "cell_type": "markdown",
   "metadata": {},
   "source": [
    "# Introducción a la Visualización de Redes\n",
    "\n",
    "En este notebook aprenderemos a visualizar redes con el módulo `aves` a través de [graphtool](http://graph-tool.skewed.de/), una biblioteca para trabajar con redes en Python.\n",
    "\n",
    "Los propósitos de esta clase son los siguientes:\n",
    "\n",
    "  1. Cargar una red.\n",
    "  2. Explorar como visualizarla.\n",
    "  3. Definir una tarea y usar visualización para responderla.\n",
    "  \n",
    "Como data set de prueba utilizaremos la Red de Jazz que se encuentra en [Colección de Redes de Koblenz](http://konect.uni-koblenz.de/networks/arenas-jazz). Ya está incluida en el repositorio `aves`, en la carpeta `data/external/arenas-jazz`.\n"
   ]
  },
  {
   "cell_type": "markdown",
   "metadata": {},
   "source": [
    "## Preámbulo y Carga de Datos"
   ]
  },
  {
   "cell_type": "code",
   "execution_count": null,
   "metadata": {},
   "outputs": [],
   "source": [
    "from dotenv import load_dotenv\n",
    "import os\n",
    "import sys\n",
    "from pathlib import Path\n",
    "\n",
    "load_dotenv()\n",
    "\n",
    "AVES_ROOT = Path(os.environ['AVES_ROOT'])\n",
    "\n",
    "DATA_PATH = AVES_ROOT / \"data\" / \"external\" / \"arenas-jazz\"\n",
    "DATA_PATH"
   ]
  },
  {
   "cell_type": "code",
   "execution_count": 4,
   "metadata": {},
   "outputs": [],
   "source": [
    "import matplotlib as mpl\n",
    "import matplotlib.pyplot as plt\n",
    "import seaborn as sns\n",
    "import pandas as pd\n",
    "from aves.config import setup_style\n",
    "\n",
    "setup_style()"
   ]
  },
  {
   "cell_type": "markdown",
   "metadata": {},
   "source": [
    "El dataset que utilizaremos tiene un archivo README que explica su origen y composición. Está en inglés."
   ]
  },
  {
   "cell_type": "code",
   "execution_count": null,
   "metadata": {},
   "outputs": [],
   "source": [
    "!cat {DATA_PATH}/README.arenas-jazz"
   ]
  },
  {
   "cell_type": "markdown",
   "metadata": {},
   "source": [
    "En castellano, dice:\n",
    "\n",
    "> Esta es una red de colaboración entre músicos y músicas de Jazz. Cada nodo es una persona y una arista implica que dos personas han interpretado música juntes en una banda. Los datos fueron recolectados el año 2003. \n",
    "\n",
    "Veamos la cabecera del archivo:"
   ]
  },
  {
   "cell_type": "code",
   "execution_count": null,
   "metadata": {},
   "outputs": [],
   "source": [
    "!head {DATA_PATH}/out.arenas-jazz -n 10"
   ]
  },
  {
   "cell_type": "markdown",
   "metadata": {},
   "source": [
    "El archivo que contiene la red tiene dos tipos de líneas:\n",
    "\n",
    "- La primera, que tiene un comentario. Podemos ignorarlo.\n",
    "- El resto, donde cada línea representa una arista. En ella aparecen dos números: el identificador del nodo de origen de una arista, y el identificador del nodo de destino de la misma arista.\n",
    "\n",
    "Podemos usar `pandas` para cargar el archivo sin problemas."
   ]
  },
  {
   "cell_type": "code",
   "execution_count": null,
   "metadata": {},
   "outputs": [],
   "source": [
    "edgelist = pd.read_csv(\n",
    "    # ruta al archivo\n",
    "    f\"{DATA_PATH}/out.arenas-jazz\",\n",
    "    # noten que está separado por TABS, no por comas\n",
    "    sep=\"\\t\",\n",
    "    # no leer la primera línea\n",
    "    skiprows=1,\n",
    "    # no tiene nombres de columnas\n",
    "    header=0,\n",
    "    # estos son los nombres de las columnas\n",
    "    names=[\"source\", \"target\"],\n",
    ")\n",
    "\n",
    "edgelist\n"
   ]
  },
  {
   "cell_type": "markdown",
   "metadata": {},
   "source": [
    "En aves la clase `Network` nos permite crear una red a partir de una tabla de aristas. Notemos que esta es una red no dirigida, es decir, las aristas no tienen dirección, se pueden interpretar en cualquier dirección: si A colabora con B, B también colabora con A."
   ]
  },
  {
   "cell_type": "code",
   "execution_count": null,
   "metadata": {},
   "outputs": [],
   "source": [
    "from aves.models.network import Network\n",
    "\n",
    "network = Network.from_edgelist(edgelist, directed=False)\n",
    "network.num_vertices, network.num_edges\n"
   ]
  },
  {
   "cell_type": "markdown",
   "metadata": {},
   "source": [
    "La visualización `NodeLink` se construye a partir del modelo `Network`:"
   ]
  },
  {
   "cell_type": "code",
   "execution_count": 9,
   "metadata": {},
   "outputs": [],
   "source": [
    "from aves.visualization.networks import NodeLink\n",
    "\n",
    "# creación\n",
    "nodelink = NodeLink(network)\n",
    "\n",
    "# organización de los noodos\n",
    "nodelink.layout_nodes()\n",
    "\n",
    "# el tamaño de un nodo será proporcional a la cantidad de conexiones que tenga\n",
    "nodelink.set_node_drawing(method=\"plain\", weights=\"total_degree\")"
   ]
  },
  {
   "cell_type": "code",
   "execution_count": null,
   "metadata": {},
   "outputs": [],
   "source": [
    "fig, ax = plt.subplots(figsize=(8, 8))\n",
    "\n",
    "# el tamaño del nodo es proporcinoal a las conexiones.\n",
    "# el parámetro node_size es el tamaño máximo.\n",
    "nodelink.plot(\n",
    "    ax,\n",
    "    nodes=dict(node_size=150, facecolor=\"white\", edgecolor=\"black\", linewidth=1),\n",
    "    edges=dict(alpha=0.5),\n",
    ")\n",
    "\n",
    "ax.set_axis_off()\n",
    "ax.set_aspect(\"equal\")\n",
    "fig.tight_layout()\n",
    "\n",
    "# fig.savefig('../reports/figures/example_nodelink.png')"
   ]
  },
  {
   "cell_type": "markdown",
   "metadata": {},
   "source": [
    "También podemos configurar la apariencia de las aristas. Ya que no son dirigidas ni tienen peso, debemos asignarles uno. Una manera común de hacerlo es a través de la [centralidad](https://en.wikipedia.org/wiki/Betweenness_centrality):"
   ]
  },
  {
   "cell_type": "markdown",
   "metadata": {},
   "source": []
  },
  {
   "cell_type": "code",
   "execution_count": 11,
   "metadata": {},
   "outputs": [],
   "source": [
    "nodelink.set_edge_drawing(method=\"weighted\", weights='betweenness', k=20)\n"
   ]
  },
  {
   "cell_type": "code",
   "execution_count": null,
   "metadata": {},
   "outputs": [],
   "source": [
    "fig, ax = plt.subplots(figsize=(9, 9))\n",
    "\n",
    "nodelink.plot(ax, nodes=dict(node_size=100, facecolor='white', edgecolor=\"black\", linewidth=1), edges=dict(palette='Purples'))\n",
    "\n",
    "ax.set_axis_off()\n",
    "ax.set_aspect(\"equal\")\n",
    "fig.tight_layout()\n"
   ]
  },
  {
   "cell_type": "markdown",
   "metadata": {},
   "source": [
    "Pongamos atención a lo siguiente:\n",
    "\n",
    "1. Cuando cargamos la red, en ningún momento especificamos una posición `(x, y)` para cada nodo de la red.\n",
    "2. Al visualizar la red, esas posiciones tienen que salir de algún método.\n",
    "  \n",
    "El método que genera las posiciones es un _algoritmo de organización_ (_layout algorithm_). Estos algoritmos posicionan los nodos en la imagen, y algunos utilizan números aleatorios para encontrar buenas posiciones de los nodos. Al ser un proceso que se ejecuta cada vez que dibujamos la red, el resultado es distinto. \n",
    "\n",
    "Distinto, pero _similar_: el algoritmo tiende a hacer lo mismo.\n",
    "\n",
    "Primero probamos el método `sfdp`. Ahora veamos el método `arf`:"
   ]
  },
  {
   "cell_type": "code",
   "execution_count": 13,
   "metadata": {},
   "outputs": [],
   "source": [
    "nodelink.layout_nodes(method=\"force-directed\", algorithm=\"arf\")\n"
   ]
  },
  {
   "cell_type": "code",
   "execution_count": null,
   "metadata": {},
   "outputs": [],
   "source": [
    "fig, ax = plt.subplots(figsize=(6, 6))\n",
    "\n",
    "nodelink.plot(ax, nodes=dict(node_size=150, facecolor=\"white\", edgecolor=\"black\", linewidth=1, alpha=0.9))\n",
    "\n",
    "ax.set_axis_off()\n",
    "ax.set_aspect(\"equal\")\n",
    "fig.tight_layout()\n"
   ]
  },
  {
   "cell_type": "markdown",
   "metadata": {},
   "source": [
    "## Estimar y Visualizar Caminos en la Red"
   ]
  },
  {
   "cell_type": "markdown",
   "metadata": {},
   "source": [
    "Una tarea común es **visualizar los caminos en una red**. Por ejemplo, cada vez que pides instrucciones o caminos en una aplicación de mapas, estás observando el resultado de una estimación de caminos en la red (usualmente el camino más corto, _shortest path_). La diferencia es que en los mapas el territorio define la organización.\n",
    "\n",
    "En el caso de una red de colaboración, una posible interpretación de un camino más corto es la secuencia de personas a las que debes contactar para conocer a alguien específico.\n",
    "\n",
    "Veamos como graficar caminos entre dos nodos aleatorios en la red.\n",
    "Para ello, importaremos el módulo `random`:"
   ]
  },
  {
   "cell_type": "code",
   "execution_count": null,
   "metadata": {},
   "outputs": [],
   "source": [
    "import random \n",
    "\n",
    "src = random.randint(1, network.num_vertices)\n",
    "dst = random.randint(1, network.num_vertices)\n",
    "\n",
    "src, dst"
   ]
  },
  {
   "cell_type": "markdown",
   "metadata": {},
   "source": [
    "El método `shortest_path` entrega la secuencia de nodos para ir desde un nodo origen hasta un nodo destino:"
   ]
  },
  {
   "cell_type": "code",
   "execution_count": null,
   "metadata": {},
   "outputs": [],
   "source": [
    "shortest_paths = network.shortest_path(src, dst)\n",
    "shortest_paths"
   ]
  },
  {
   "cell_type": "markdown",
   "metadata": {},
   "source": [
    "Para graficar un camino (el primero que se haya encontrado) crearemos una vista parcial de la red que solo contenga los nodos correspondientes:"
   ]
  },
  {
   "cell_type": "code",
   "execution_count": null,
   "metadata": {},
   "outputs": [],
   "source": [
    "view = network.subgraph(shortest_paths[0])\n",
    "view.num_vertices, view.num_edges"
   ]
  },
  {
   "cell_type": "code",
   "execution_count": 18,
   "metadata": {},
   "outputs": [],
   "source": [
    "nodelink_view = NodeLink(view)\n",
    "nodelink_view.set_edge_drawing(method=\"plain\")"
   ]
  },
  {
   "cell_type": "code",
   "execution_count": 19,
   "metadata": {},
   "outputs": [],
   "source": [
    "nodelink_view.set_node_drawing(method='labeled')"
   ]
  },
  {
   "cell_type": "code",
   "execution_count": null,
   "metadata": {},
   "outputs": [],
   "source": [
    "fig, ax = plt.subplots(figsize=(8, 8))\n",
    "\n",
    "# full network\n",
    "nodelink.plot(ax, nodes=dict(node_size=50, color=\"white\", edgecolor=\"black\"))\n",
    "\n",
    "# shortest path with highlights\n",
    "nodelink_view.plot(\n",
    "    ax,\n",
    "    edges=dict(color=\"orange\", linewidth=2),\n",
    "    nodes=dict(node_size=120, color=\"purple\", edgecolor=\"black\"),\n",
    ")\n",
    "\n",
    "ax.set_axis_off()\n",
    "ax.set_aspect(\"equal\")\n",
    "fig.tight_layout()\n"
   ]
  },
  {
   "cell_type": "code",
   "execution_count": 21,
   "metadata": {},
   "outputs": [],
   "source": [
    "network.detect_communities()"
   ]
  },
  {
   "cell_type": "code",
   "execution_count": 22,
   "metadata": {},
   "outputs": [],
   "source": [
    "nodelink.set_node_drawing(\n",
    "    # peso de los nodos\n",
    "    weights='total_degree',\n",
    "    # categorías a utilizar para colorear los nodos\n",
    "    categories='community',\n",
    ")"
   ]
  },
  {
   "cell_type": "code",
   "execution_count": null,
   "metadata": {},
   "outputs": [],
   "source": [
    "fig, ax = plt.subplots(figsize=(6, 6))\n",
    "\n",
    "nodelink.plot(ax, nodes=dict(node_size=150, facecolor=\"white\", edgecolor=\"black\", linewidth=1, alpha=0.9, palette='husl'))\n",
    "\n",
    "ax.set_axis_off()\n",
    "ax.set_aspect(\"equal\")\n",
    "fig.tight_layout()"
   ]
  },
  {
   "cell_type": "markdown",
   "metadata": {},
   "source": [
    "Como vemos, tenemos una noción de dónde está cada uno de los nodos involucrados en la red, e incluso podemos ver que al parecer el camino cruza desde una comunidad a otra.\n",
    "\n",
    "Ahora bien, debemos tener cuidado al interpretar una visualización como ésta: el algoritmo de organización tiene un criterio gráfico para posicionar nodos en la imagen, una comunidad o _cluster_ en la visualización no necesariamente representa un _cluster real en la estructura_."
   ]
  },
  {
   "cell_type": "markdown",
   "metadata": {},
   "source": [
    "## Tarea: Detección de Comunidades\n",
    "\n",
    "Una tarea común en el análisis de redes es encontrar comunidades de nodos, es decir, grupos que estén altamente conectados entre sí en comparación con las conexiones de los demás nodos. A veces estamos interesados en el comportamiento colectivo de la red, y en ese caso, podríamos analizar los patrones de comportamiento de las comunidades en vez de los de cada nodo.\n",
    "\n",
    "En nuestro data set, la visualización sugiere que hay al menos dos comunidades. Quizás hay más. No lo sabemos aún. Pero, ¿cuál es el significado de comunidad aquí? El data set es sobre músicos de jazz que interpretan música juntos. Entonces, quizás cada comunidad se refiere a estilos específicos de interpretación, a variaciones del jazz, a ubicaciones en las que tocan música, etc.\n"
   ]
  },
  {
   "cell_type": "markdown",
   "metadata": {},
   "source": [
    "Los nodos que están en los bordes del círculo son los músicos, y los nodos interiores son las comunidades.\n",
    "\n",
    "Noten como los nodos están ordenados de acuerdo a las comunidades. El nodo central es una raíz artificial que agregamos en nuestra magia negra, que nos permitió darle la estructura de árbol a la red total.\n",
    "\n",
    "El siguiente paso es generar el diccionario de posiciones solamente para los nodos de nuestra red original:"
   ]
  },
  {
   "cell_type": "code",
   "execution_count": 24,
   "metadata": {},
   "outputs": [],
   "source": [
    "network.detect_communities(method='hierarchical')"
   ]
  },
  {
   "cell_type": "code",
   "execution_count": null,
   "metadata": {},
   "outputs": [],
   "source": [
    "from cytoolz import valmap\n",
    "import numpy as np\n",
    "valmap(lambda x: np.unique(x), network.communities_per_level)"
   ]
  },
  {
   "cell_type": "code",
   "execution_count": null,
   "metadata": {},
   "outputs": [],
   "source": [
    "network.set_community_level(0)\n",
    "nodelink.set_node_drawing(\n",
    "    \"plain\",\n",
    "    weights=\"total_degree\",\n",
    "    # categorías a utilizar para colorear los nodos. pueden ser las mismas de HEB\n",
    "    categories='community',\n",
    ")\n",
    "\n",
    "fig, ax = plt.subplots(figsize=(6, 6))\n",
    "\n",
    "nodelink.plot(ax, \n",
    "    nodes=dict(node_size=150, palette='plasma', edgecolor='none', alpha=0.75), \n",
    "    edges=dict(color='#abacab', alpha=0.5))\n",
    "\n",
    "\n",
    "ax.set_axis_off()\n",
    "ax.set_aspect('equal')\n",
    "fig.tight_layout()"
   ]
  },
  {
   "cell_type": "code",
   "execution_count": 27,
   "metadata": {},
   "outputs": [],
   "source": [
    "heb = nodelink.bundle_edges(method=\"hierarchical\")"
   ]
  },
  {
   "cell_type": "code",
   "execution_count": 28,
   "metadata": {},
   "outputs": [],
   "source": [
    "network.set_community_level(2)\n",
    "nodelink.set_node_drawing(\n",
    "    # muestra las etiquetas\n",
    "    \"labeled\",\n",
    "    # como el método HEB es radial, podemos aprovechar eso para orientar el texto (rotarlo)\n",
    "    radial=True,\n",
    "    # distancia radial desde los nodos\n",
    "    offset=0.1,\n",
    "    # peso de los nodos\n",
    "    weights=\"total_degree\",\n",
    "    # categorías a utilizar para colorear los nodos. pueden ser las mismas de HEB\n",
    "    categories='community',\n",
    ")\n"
   ]
  },
  {
   "cell_type": "code",
   "execution_count": null,
   "metadata": {},
   "outputs": [],
   "source": [
    "fig, ax = plt.subplots(figsize=(6, 6))\n",
    "\n",
    "nodelink.plot(ax, \n",
    "    nodes=dict(node_size=150, palette='plasma', edgecolor='none', alpha=0.75, fontsize='x-small'), \n",
    "    edges=dict(color='#abacab', alpha=0.5))\n",
    "\n",
    "\n",
    "ax.set_axis_off()\n",
    "ax.set_aspect('equal')\n",
    "fig.tight_layout()"
   ]
  },
  {
   "cell_type": "markdown",
   "metadata": {},
   "source": [
    "Podemos visualizar la estructura de HEB para entender lo que hace este método:"
   ]
  },
  {
   "cell_type": "code",
   "execution_count": null,
   "metadata": {
    "tags": []
   },
   "outputs": [],
   "source": [
    "fig, ax = plt.subplots(figsize=(8, 8))\n",
    "\n",
    "nodelink.plot(\n",
    "    ax,\n",
    "    nodes=dict(\n",
    "        node_size=5, palette=\"plasma\", edgecolor=\"none\", alpha=0.75),\n",
    "    edges=dict(color=\"#abacab\", alpha=0.5),\n",
    ")\n",
    "\n",
    "heb.plot_community_network(ax)\n",
    "\n",
    "ax.set_axis_off()\n",
    "ax.set_aspect(\"equal\")\n",
    "fig.tight_layout()\n"
   ]
  },
  {
   "cell_type": "markdown",
   "metadata": {},
   "source": [
    "Increíble, ¿no? Ahora podemos ver como las comunidades se conectan entre sí y también como los miembros de una comunidad se relacionan. Vemos quienes son populares y quienes son puentes con otras comunidades. Piensen en lo útil que podría ser esto para un agente artístico.\n",
    "\n",
    "Podemos utilizar la categorización para colorear las aristas:"
   ]
  },
  {
   "cell_type": "code",
   "execution_count": 31,
   "metadata": {},
   "outputs": [],
   "source": [
    "network.set_community_level(2)\n",
    "nodelink.set_node_drawing(\n",
    "    # muestra las etiquetas\n",
    "    \"labeled\",\n",
    "    # como el método HEB es radial, podemos aprovechar eso para orientar el texto (rotarlo)\n",
    "    radial=True,\n",
    "    # distancia radial desde los nodos\n",
    "    offset=0.1,\n",
    "    # peso de los nodos\n",
    "    weights='pagerank',\n",
    "    # categorías a utilizar para colorear los nodos. pueden ser las mismas de HEB\n",
    "    categories='community',\n",
    ")"
   ]
  },
  {
   "cell_type": "code",
   "execution_count": null,
   "metadata": {},
   "outputs": [],
   "source": [
    "fig, ax = plt.subplots(figsize=(6, 6))\n",
    "\n",
    "nodelink.plot(ax, \n",
    "    nodes=dict(node_size=150, palette='plasma', edgecolor='none', alpha=0.75, fontsize='x-small'), \n",
    "    edges=dict(color='#abacab', alpha=0.5))\n",
    "\n",
    "\n",
    "ax.set_axis_off()\n",
    "ax.set_aspect('equal')\n",
    "fig.tight_layout()"
   ]
  },
  {
   "cell_type": "code",
   "execution_count": 33,
   "metadata": {},
   "outputs": [],
   "source": [
    "nodelink.set_edge_drawing(\n",
    "    \"community-gradient\", level=2\n",
    ")\n"
   ]
  },
  {
   "cell_type": "code",
   "execution_count": 34,
   "metadata": {},
   "outputs": [],
   "source": [
    "nodelink.set_node_drawing(\n",
    "    # muestra las etiquetas\n",
    "    \"plain\",\n",
    "    # como el método HEB es radial, podemos aprovechar eso para orientar el texto (rotarlo)\n",
    "    radial=True,\n",
    "    # distancia radial desde los nodos\n",
    "    offset=0.1,\n",
    "    # peso de los nodos\n",
    "    weights=\"total_degree\",\n",
    "    # categorías a utilizar para colorear los nodos. pueden ser las mismas de HEB\n",
    "    categories='community',\n",
    ")"
   ]
  },
  {
   "cell_type": "code",
   "execution_count": null,
   "metadata": {},
   "outputs": [],
   "source": [
    "fig, ax = plt.subplots(figsize=(6, 6))\n",
    "\n",
    "# necesitamos graficar los nodos para ajustar los límites de la visualización.\n",
    "nodelink.plot_nodes(ax, alpha=0)\n",
    "\n",
    "nodelink.plot_edges(ax, alpha=0.5)\n",
    "\n",
    "# aquí podríamos tener una función que tome el identificador de la comunidad y \n",
    "# genere un texto para desplegar como nombre.\n",
    "nodelink.bundle_model.plot_community_wedges(\n",
    "    ax, wedge_width=0.05, level=1, wedge_offset=0.01, label_func=lambda x: x, palette=\"turbo\"\n",
    ")\n",
    "\n",
    "ax.set_axis_off()\n",
    "ax.set_aspect(\"equal\")\n",
    "fig.tight_layout()\n",
    "\n",
    "# fig.savefig('../reports/figures/example_heb.png')\n"
   ]
  },
  {
   "cell_type": "markdown",
   "metadata": {},
   "source": [
    "Ahora bien, en Hierarchical Edge Bundling las comunidades también dependen de la inicialización del algoritmo, que utiliza números generados aleatoriamente. En un análisis riguroso, el procedimiento es repetir el proceso varias veces (decenas o incluso cientos de veces), y luego utilizar un método que permita saber cuál es el modelo que presenta mejor ajuste. En el caso de `graph_tool`, esto se hace [eligiendo el modelo que genera la descripción más compacta de la red](https://graph-tool.skewed.de/static/doc/demos/inference/inference.html#the-stochastic-block-model-sbm).\n",
    "\n",
    "Con esto terminamos esta clase.\n",
    "\n",
    "La visualización de redes permite estudiar los datos a traves de las relaciones presentes en ellos, lo que la vuelve un buen complemento para las otras técnicas que hemos trabajado en el curso.\n",
    "\n",
    "## Propuesto\n",
    "\n",
    "Ya que la detección de comunidades jerárquica crea un árbol, ¿es posible usar un `treemap` para visualizar la red?"
   ]
  },
  {
   "cell_type": "markdown",
   "metadata": {},
   "source": []
  }
 ],
 "metadata": {
  "kernelspec": {
   "display_name": "aves",
   "language": "python",
   "name": "python3"
  },
  "language_info": {
   "codemirror_mode": {
    "name": "ipython",
    "version": 3
   },
   "file_extension": ".py",
   "mimetype": "text/x-python",
   "name": "python",
   "nbconvert_exporter": "python",
   "pygments_lexer": "ipython3",
   "version": "3.11.6"
  }
 },
 "nbformat": 4,
 "nbformat_minor": 4
}

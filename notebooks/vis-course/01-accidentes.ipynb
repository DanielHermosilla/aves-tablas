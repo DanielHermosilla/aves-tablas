{
 "cells": [
  {
   "cell_type": "markdown",
   "metadata": {},
   "source": [
    "# Análisis exploratorio (para el proyecto)\n",
    "\n",
    "## Antes de partir...\n",
    "\n",
    "### Requisitos\n",
    "\n",
    "Usaremos los datos disponibles en [CONASET](https://mapas-conaset.opendata.arcgis.com/), particularmente [este de accidentes el año 2021](https://mapas-conaset.opendata.arcgis.com/datasets/4b636b2f27164b0ebbeca0ab9db4d08a_0/explore).\n",
    "\n",
    "También usaremos la [cartografía del Censo 2017](https://github.com/PLUMAS-research/chile_census_2017_shapefiles). Para ello deben clonar ese repositorio y ejecutar el comando que aparece en su documentación: `find . -name \"*.gz\" | xargs gunzip` (en la carpeta de ese repositorio).\n",
    "\n",
    "### Configuración\n",
    "\n",
    "Además, utilizaremos un archivo de configuración `.env` que debe estar en la carpeta de estos notebooks, o bien, en su carpeta superior. Este archivo por el momento luce así:\n",
    "\n",
    "```\n",
    "AVES_ROOT=/home/egraells/resources/aves\n",
    "CENSUS_GEO_ROOT=/mnt/d/centella/chile_census_2017_shapefiles/\n",
    "```\n",
    "\n",
    "La variable `AVES_ROOT` indica la carpeta donde está el repositorio `aves`; y la variable `CENSUS_GEO_ROOT`, donde se guardó el repositorio de cartografía del censo. Cargamos estas variables desde el archivo de configuración con la biblioteca `dotenv` (esto es necesario porque ustedes pueden ejecutar el notebook directamente sin tener que modificar rutas u otras cosas en el notebook)."
   ]
  },
  {
   "cell_type": "code",
   "execution_count": 1,
   "metadata": {},
   "outputs": [],
   "source": [
    "import os\n",
    "from dotenv import load_dotenv\n",
    "from pathlib import Path\n",
    "\n",
    "load_dotenv()\n",
    "\n",
    "AVES_ROOT = Path(os.environ['AVES_ROOT'])\n",
    "CENSUS_GEO_ROOT = Path(os.environ['CENSUS_GEO_ROOT'])"
   ]
  },
  {
   "cell_type": "markdown",
   "metadata": {},
   "source": [
    "## Propuesta de proyecto\n",
    "\n",
    "Esta podría ser una propuesta de proyecto inicial:\n",
    "\n",
    "* **Situación**: La congestión y el tráfico en las ciudades es un fenómeno natural que emerge de las distintas actividades urbanas y su concentración espacial.\n",
    "* **Complicación**: El transporte de personas también conlleva accidentes, con la correspondiente pérdida de vidas, problemas de salud y lesiones a las personas involucradas, daño a la propiedad pública y privada, y costo de tiempo a personas no involucradas.\n",
    "* **Propuesta**: Caracterizar la accidentabilidad en Santiago para apoyar el diseño de políticas públicas que reduzcan la cantidad de accidentes.\n",
    "\n",
    "Realizaremos un análisis exploratorio para ver su factibilidad e iterar  su definición."
   ]
  },
  {
   "cell_type": "markdown",
   "metadata": {},
   "source": [
    "## Bibliotecas necesarias"
   ]
  },
  {
   "cell_type": "code",
   "execution_count": 2,
   "metadata": {},
   "outputs": [],
   "source": [
    "# para datos\n",
    "import numpy as np\n",
    "import pandas as pd\n",
    "import geopandas as gpd\n",
    "import requests\n",
    "\n",
    "# visualización en Python\n",
    "import seaborn as sns\n",
    "import matplotlib.pyplot as plt\n",
    "\n",
    "# AVES: Análisis, Visualización, Educación y Soporte\n",
    "from aves.features.geo import clip_area_geodataframe, clip_point_geodataframe\n",
    "from aves.visualization.figures import small_multiples_from_geodataframe\n",
    "from aves.visualization.maps import choropleth_map, heat_map\n",
    "from aves.config import setup_style\n",
    "from aves.data.census.loading import read_census_map\n",
    "from aves.features.utils import normalize_rows\n",
    "\n",
    "setup_style()"
   ]
  },
  {
   "cell_type": "markdown",
   "metadata": {},
   "source": [
    "## Construcción del dataset\n",
    "\n",
    "Construir el dataset también involucra descargarlo y almacenarlo."
   ]
  },
  {
   "cell_type": "code",
   "execution_count": 3,
   "metadata": {},
   "outputs": [],
   "source": [
    "data_path = AVES_ROOT / \"data\" / \"external\" / \"conaset\"\n",
    "\n",
    "if not data_path.exists():\n",
    "    data_path.mkdir(parents=True)"
   ]
  },
  {
   "cell_type": "code",
   "execution_count": 4,
   "metadata": {},
   "outputs": [],
   "source": [
    "file_path = data_path / \"2019-rm-accidents.json\"\n",
    "\n",
    "if not file_path.exists():\n",
    "    r = requests.get('https://opendata.arcgis.com/api/v3/datasets/4b636b2f27164b0ebbeca0ab9db4d08a_0/downloads/data?format=geojson&spatialRefId=4326&where=1%3D1')\n",
    "    with open(file_path, 'wt') as f:\n",
    "        f.write(r.text)"
   ]
  },
  {
   "cell_type": "code",
   "execution_count": 5,
   "metadata": {},
   "outputs": [],
   "source": [
    "gdf = gpd.read_file(file_path, dtypes={'Fecha': 'str', 'Hora': 'str'}).to_crs('epsg:5361')"
   ]
  },
  {
   "cell_type": "code",
   "execution_count": null,
   "metadata": {},
   "outputs": [],
   "source": [
    "gdf"
   ]
  },
  {
   "cell_type": "code",
   "execution_count": null,
   "metadata": {},
   "outputs": [],
   "source": [
    "gdf.plot()"
   ]
  },
  {
   "cell_type": "code",
   "execution_count": null,
   "metadata": {},
   "outputs": [],
   "source": [
    "gdf.columns"
   ]
  },
  {
   "cell_type": "code",
   "execution_count": null,
   "metadata": {},
   "outputs": [],
   "source": [
    "gdf.dtypes"
   ]
  },
  {
   "cell_type": "code",
   "execution_count": null,
   "metadata": {},
   "outputs": [],
   "source": [
    "gdf[['COMUNAREAL', 'Comuna_1']].value_counts()"
   ]
  },
  {
   "cell_type": "code",
   "execution_count": null,
   "metadata": {},
   "outputs": [],
   "source": [
    "len(gdf[gdf['COMUNAREAL'] != gdf['Comuna_1']]) / len(gdf)"
   ]
  },
  {
   "cell_type": "code",
   "execution_count": null,
   "metadata": {},
   "outputs": [],
   "source": [
    "comunas = read_census_map(\n",
    "    \"comuna\", path=CENSUS_GEO_ROOT / \"R13\"\n",
    ")\n",
    "\n",
    "comunas.plot()"
   ]
  },
  {
   "cell_type": "code",
   "execution_count": null,
   "metadata": {},
   "outputs": [],
   "source": [
    "limites_urbanos = read_census_map(\n",
    "    \"limite_urbano_censal\", path=CENSUS_GEO_ROOT / \"R13\"\n",
    ")\n",
    "\n",
    "limites_urbanos.plot()"
   ]
  },
  {
   "cell_type": "markdown",
   "metadata": {},
   "source": [
    "En http://bboxfinder.com podemos definir una _caja contenedora_ (_bounding box_) para área de análisis."
   ]
  },
  {
   "cell_type": "code",
   "execution_count": 14,
   "metadata": {},
   "outputs": [],
   "source": [
    "scl_bounds = [-70.88006218, -33.67612715, -70.43015094, -33.31069169]"
   ]
  },
  {
   "cell_type": "code",
   "execution_count": null,
   "metadata": {},
   "outputs": [],
   "source": [
    "scl = clip_area_geodataframe(limites_urbanos, scl_bounds)\n",
    "scl.plot()"
   ]
  },
  {
   "cell_type": "markdown",
   "metadata": {},
   "source": [
    "## Limpiado, Filtrado y Pre-Procesamiento"
   ]
  },
  {
   "cell_type": "code",
   "execution_count": 16,
   "metadata": {},
   "outputs": [],
   "source": [
    "# comunas_urbanas[\"NombreComuna\"] = comunas_urbanas[\"NombreComuna\"].replace(\n",
    "#     {\"Á\": \"A\", \"Ú\": \"U\", \"Ó\": \"O\", \"Í\": \"I\", \"É\": \"E\"}, regex=True\n",
    "# )\n"
   ]
  },
  {
   "cell_type": "code",
   "execution_count": null,
   "metadata": {},
   "outputs": [],
   "source": [
    "ax = scl.plot(edgecolor=\"black\", facecolor=\"none\")\n",
    "gdf[(gdf[\"COMUNAREAL\"] != gdf[\"Comuna_1\"]) & (gdf[\"Comuna_1\"] == \"SANTIAGO\")].to_crs(scl.crs).plot(\n",
    "    column=\"COMUNAREAL\", ax=ax\n",
    ")\n"
   ]
  },
  {
   "cell_type": "code",
   "execution_count": null,
   "metadata": {},
   "outputs": [],
   "source": [
    "ax = scl.plot(edgecolor=\"black\", facecolor=\"none\")\n",
    "gdf[(gdf[\"COMUNAREAL\"] != gdf[\"Comuna_1\"]) & (gdf[\"Comuna_1\"] == \"SANTIAGO\")].to_crs(scl.crs).plot(\n",
    "    column=\"Comuna_1\", legend=False, ax=ax\n",
    ")"
   ]
  },
  {
   "cell_type": "markdown",
   "metadata": {},
   "source": [
    "Conclusión: Hay que usar \"COMUNAREAL\" si queremos estudiar comunas."
   ]
  },
  {
   "cell_type": "markdown",
   "metadata": {},
   "source": [
    "Cruzaremos los datos para quedarnos con los accidentes en el ámbito urbano."
   ]
  },
  {
   "cell_type": "code",
   "execution_count": null,
   "metadata": {},
   "outputs": [],
   "source": [
    "scl_accidents = clip_point_geodataframe(gdf.to_crs(scl.crs), scl_bounds)\n",
    "scl_accidents.plot(alpha=0.01)"
   ]
  },
  {
   "cell_type": "markdown",
   "metadata": {},
   "source": [
    "## ¿Qué contiene?"
   ]
  },
  {
   "cell_type": "code",
   "execution_count": null,
   "metadata": {},
   "outputs": [],
   "source": [
    "scl_accidents.columns"
   ]
  },
  {
   "cell_type": "code",
   "execution_count": null,
   "metadata": {},
   "outputs": [],
   "source": [
    "scl_accidents['Km_Vía_Fe'].value_counts().plot(kind='barh')"
   ]
  },
  {
   "cell_type": "code",
   "execution_count": null,
   "metadata": {},
   "outputs": [],
   "source": [
    "scl_accidents['Condición'].value_counts().plot(kind='barh')"
   ]
  },
  {
   "cell_type": "code",
   "execution_count": null,
   "metadata": {},
   "outputs": [],
   "source": [
    "scl_accidents['Tipo__CONA'].value_counts().plot(kind='barh')"
   ]
  },
  {
   "cell_type": "code",
   "execution_count": null,
   "metadata": {},
   "outputs": [],
   "source": [
    "scl_accidents['Causa__CON'].value_counts().plot(kind='barh')"
   ]
  },
  {
   "cell_type": "code",
   "execution_count": null,
   "metadata": {},
   "outputs": [],
   "source": [
    "scl_accidents['Fallecidos'].value_counts().plot(kind='barh')"
   ]
  },
  {
   "cell_type": "code",
   "execution_count": null,
   "metadata": {},
   "outputs": [],
   "source": [
    "scl_accidents['Graves'].value_counts().plot(kind='barh')"
   ]
  },
  {
   "cell_type": "code",
   "execution_count": null,
   "metadata": {},
   "outputs": [],
   "source": [
    "scl_accidents['Menos_Grav'].value_counts().plot(kind='barh')"
   ]
  },
  {
   "cell_type": "code",
   "execution_count": null,
   "metadata": {},
   "outputs": [],
   "source": [
    "scl_accidents['Leves'].value_counts().plot(kind='barh')"
   ]
  },
  {
   "cell_type": "code",
   "execution_count": null,
   "metadata": {},
   "outputs": [],
   "source": [
    "scl_accidents['Ilesos'].value_counts().plot(kind='barh')"
   ]
  },
  {
   "cell_type": "code",
   "execution_count": 30,
   "metadata": {},
   "outputs": [],
   "source": [
    "scl_accidents[\"victimas\"] = scl_accidents[\n",
    "    [\"Ilesos\", \"Graves\", \"Menos_Grav\", \"Fallecidos\", \"Leves\"]\n",
    "].sum(axis=1)"
   ]
  },
  {
   "cell_type": "code",
   "execution_count": null,
   "metadata": {},
   "outputs": [],
   "source": [
    "scl_accidents[\"victimas\"].value_counts(sort=False).sort_index().plot(\n",
    "    kind=\"bar\", logy=True\n",
    ")"
   ]
  },
  {
   "cell_type": "code",
   "execution_count": null,
   "metadata": {},
   "outputs": [],
   "source": [
    "scl_accidents['Estado_Atm'].value_counts().plot(kind='barh')"
   ]
  },
  {
   "cell_type": "code",
   "execution_count": null,
   "metadata": {},
   "outputs": [],
   "source": [
    "scl_accidents['Estado_Cal'].value_counts().plot(kind='barh')"
   ]
  },
  {
   "cell_type": "code",
   "execution_count": null,
   "metadata": {},
   "outputs": [],
   "source": [
    "scl_accidents['Ubicación'].value_counts().plot(kind='barh')"
   ]
  },
  {
   "attachments": {},
   "cell_type": "markdown",
   "metadata": {},
   "source": [
    "## ¿Cuándo?"
   ]
  },
  {
   "cell_type": "code",
   "execution_count": null,
   "metadata": {},
   "outputs": [],
   "source": [
    "scl_accidents['Fecha']"
   ]
  },
  {
   "cell_type": "code",
   "execution_count": null,
   "metadata": {},
   "outputs": [],
   "source": [
    "scl_accidents['Hora']"
   ]
  },
  {
   "cell_type": "code",
   "execution_count": null,
   "metadata": {},
   "outputs": [],
   "source": [
    "scl_accidents.resample('1d', on='Fecha').size().plot()"
   ]
  },
  {
   "cell_type": "code",
   "execution_count": null,
   "metadata": {},
   "outputs": [],
   "source": [
    "scl_accidents.resample('1W', on='Fecha').size().plot()"
   ]
  },
  {
   "cell_type": "code",
   "execution_count": null,
   "metadata": {},
   "outputs": [],
   "source": [
    "fig, axes = plt.subplots(3, 1, figsize=(6, 12))\n",
    "\n",
    "mean_accidents = (\n",
    "    lambda name, x: x.resample(\"1d\", on=\"Fecha\")\n",
    "    # .size()\n",
    "    [\"victimas\"]\n",
    "    .sum()\n",
    "    .rolling(14, center=True)\n",
    "    .mean()\n",
    "    .rename(name)\n",
    "    .to_frame()\n",
    "    .apply(lambda x: (x - x.mean()) / x.std())\n",
    ")\n",
    "\n",
    "for ax, cat in zip(axes, [\"COLISION\", \"CHOQUE\", \"ATROPELLO\"]):\n",
    "    # print(g)\n",
    "    g = scl_accidents[scl_accidents[\"Tipo__CONA\"] == cat]\n",
    "    mean_accidents(\"all\", scl_accidents).plot(ax=ax, color=\"grey\", linewidth=0.5, legend=False)\n",
    "    mean_accidents(cat, g).plot(ax=ax, linewidth=1.5, color=\"purple\", legend=False)\n",
    "    ax.set_title(cat)\n",
    "    sns.despine(ax=ax, left=True, bottom=True)\n",
    "\n",
    "fig.tight_layout()"
   ]
  },
  {
   "attachments": {},
   "cell_type": "markdown",
   "metadata": {},
   "source": [
    "## ¿Dónde?"
   ]
  },
  {
   "cell_type": "code",
   "execution_count": null,
   "metadata": {},
   "outputs": [],
   "source": [
    "fig, ax = small_multiples_from_geodataframe(scl, 1, height=7)\n",
    "\n",
    "scl.plot(ax=ax, facecolor=\"#efefef\", edgecolor=\"none\")\n",
    "heat_map(ax, scl_accidents, weight=\"victimas\", bandwidth=0.005, low_threshold=0.005)\n",
    "scl.plot(ax=ax, facecolor=\"none\", edgecolor=\"white\")"
   ]
  },
  {
   "cell_type": "code",
   "execution_count": null,
   "metadata": {},
   "outputs": [],
   "source": [
    "victimas_por_comuna = (\n",
    "    scl_accidents.groupby([\"COMUNAREAL\", \"Tipo__CONA\"])[\"victimas\"]\n",
    "    .sum()\n",
    "    .unstack(fill_value=0)\n",
    "    .pipe(normalize_rows)\n",
    ")\n",
    "sns.clustermap(victimas_por_comuna, method=\"ward\", annot=True, fmt='.2f')"
   ]
  },
  {
   "cell_type": "code",
   "execution_count": null,
   "metadata": {},
   "outputs": [],
   "source": [
    "causas_por_comuna = (\n",
    "    scl_accidents.groupby([\"COMUNAREAL\", \"Causa__CON\"])[\"victimas\"]\n",
    "    .sum()\n",
    "    .unstack(fill_value=0)\n",
    "    .pipe(normalize_rows)\n",
    ")\n",
    "sns.clustermap(causas_por_comuna, method=\"ward\", annot=True, fmt='.2f')"
   ]
  },
  {
   "attachments": {},
   "cell_type": "markdown",
   "metadata": {},
   "source": [
    "## ¿Cómo?"
   ]
  },
  {
   "cell_type": "code",
   "execution_count": null,
   "metadata": {},
   "outputs": [],
   "source": [
    "sns.clustermap(\n",
    "    scl_accidents.groupby(\"Ubicación\")[\"Tipo__CONA\"]\n",
    "    .value_counts()\n",
    "    .unstack(fill_value=0)\n",
    "    .pipe(normalize_rows), annot=True, fmt='.2f'\n",
    ")"
   ]
  },
  {
   "cell_type": "code",
   "execution_count": null,
   "metadata": {},
   "outputs": [],
   "source": [
    "sns.clustermap(\n",
    "    scl_accidents.groupby(\"Tipo__CONA\")[\"victimas\"]\n",
    "    .value_counts()\n",
    "    .unstack(fill_value=0).T\n",
    "    .pipe(np.sqrt)\n",
    "    .pipe(normalize_rows).T\n",
    "    , annot=True, fmt='.2f',\n",
    "    col_cluster=False,\n",
    ")"
   ]
  },
  {
   "cell_type": "code",
   "execution_count": null,
   "metadata": {},
   "outputs": [],
   "source": [
    "sns.clustermap(\n",
    "    scl_accidents.groupby(\"Tipo__CONA\")[\"Causa__CON\"]\n",
    "    .value_counts()\n",
    "    .unstack(fill_value=0)\n",
    "    .pipe(normalize_rows), annot=True, fmt='.2f'\n",
    ")"
   ]
  },
  {
   "cell_type": "code",
   "execution_count": null,
   "metadata": {},
   "outputs": [],
   "source": [
    "sns.clustermap(\n",
    "    scl_accidents.groupby(\"Ubicación\")[\"Causa__CON\"]\n",
    "    .value_counts()\n",
    "    .unstack(fill_value=0)\n",
    "    .pipe(normalize_rows), annot=True, fmt='.2f'\n",
    ")"
   ]
  },
  {
   "cell_type": "code",
   "execution_count": 47,
   "metadata": {},
   "outputs": [],
   "source": [
    "scl_accidents['dia_de_semana'] = scl_accidents['Fecha'].dt.dayofweek\n",
    "scl_accidents['fin_de_semana'] = scl_accidents['Fecha'].dt.dayofweek >= 5"
   ]
  },
  {
   "cell_type": "code",
   "execution_count": null,
   "metadata": {},
   "outputs": [],
   "source": [
    "ax = scl_accidents.groupby(\"Causa__CON\")['dia_de_semana'].value_counts().unstack(fill_value=0).T.pipe(normalize_rows).plot(kind='bar', stacked=True, linewidth=0, width=1.0, cmap='plasma')\n",
    "ax.legend(bbox_to_anchor=(1.0, 0.0, 1.1, 1.0), loc='center left', reverse=True)#.pipe(lambda x: x[True] / x[False]).sort_values().plot(kind='barh')"
   ]
  },
  {
   "cell_type": "markdown",
   "metadata": {},
   "source": [
    "# Entonces...\n",
    "\n",
    "¿Es factible hacer algo con estos datos? Sí, aunque pareciera que se debe hacer algo a nivel general. La granularidad espacial es buena, pero temporalmente se pierde información o no hay variaciones grandes. Además hay pocos meta-datos de los accidentes relacionados con las condiciones en las que sucedieron, por ej., no se incluye el vehículo o las características de las personas.\n",
    "\n",
    "Quizás lo que más llama la atención es la variación en la proporción de accidentes por día de semana. Ya que tenemos variabilidad espacial y en la proporción de accidentes por día de semana (o bien semana y fin de semana), podríamos iterar nuestro proyecto para que el objetivo sea aportar evidencia para:\n",
    "\n",
    "1. Desarrollar estrategias de reducción de imprudencia de conductores. La tarea a resolver es **encontrar la relación** entre ubicación, accidentes e infraestructura del lugar. Posiblemente se requieran datos adicionales sobre el entorno construido;\n",
    "2. Intensificar controles de alcoholemia los fines de semana. La tarea a resolver es **identificar** puntos críticos de accidentes en tipos de días específicos.\n",
    "   \n",
    "¡En estos casos, el proyecto parece factible!\n",
    "\n",
    "¿Propones otros análisis futuros?"
   ]
  }
 ],
 "metadata": {
  "kernelspec": {
   "display_name": "aves",
   "language": "python",
   "name": "python3"
  },
  "language_info": {
   "codemirror_mode": {
    "name": "ipython",
    "version": 3
   },
   "file_extension": ".py",
   "mimetype": "text/x-python",
   "name": "python",
   "nbconvert_exporter": "python",
   "pygments_lexer": "ipython3",
   "version": "3.11.6"
  },
  "orig_nbformat": 4
 },
 "nbformat": 4,
 "nbformat_minor": 2
}

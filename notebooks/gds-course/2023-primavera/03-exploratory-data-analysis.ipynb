{
 "cells": [
  {
   "cell_type": "markdown",
   "metadata": {},
   "source": [
    "**Situación**\n",
    "La congestión y el tráfico en las ciudades es un fenómeno natural que emerge de las distintas actividades urbanas y su concentración espacial.\n",
    "\n",
    "**Complicación**\n",
    "El transporte de personas también conlleva accidentes, con la correspondiente pérdida de vidas, problemas de salud y lesiones a las personas involucradas, daño a la propiedad pública y privada, y costo de tiempo a personas no involucradas.\n",
    "\n",
    "**Propuesta**\n",
    "Caracterizar la accidentabilidad en Santiago para apoyar el diseño de políticas públicas que reduzcan la cantidad de accidentes."
   ]
  },
  {
   "cell_type": "code",
   "execution_count": null,
   "metadata": {},
   "outputs": [],
   "source": [
    "import geopandas as gpd\n",
    "import seaborn as sns\n",
    "import pandas as pd\n",
    "import matplotlib.pyplot as plt\n",
    "from aves.data import census\n",
    "from pathlib import Path\n",
    "from aves.features.geo import clip_area_geodataframe\n",
    "from aves.visualization.figures import small_multiples_from_geodataframe\n",
    "from aves.visualization.maps import choropleth_map\n",
    "\n",
    "sns.set_context('paper')\n",
    "sns.set_style('ticks')"
   ]
  },
  {
   "cell_type": "markdown",
   "metadata": {},
   "source": [
    "## Construcción del Dataset"
   ]
  },
  {
   "cell_type": "code",
   "execution_count": null,
   "metadata": {},
   "outputs": [],
   "source": [
    "AVES_ROOT = Path(\"..\") / \"..\" / \"..\""
   ]
  },
  {
   "attachments": {},
   "cell_type": "markdown",
   "metadata": {},
   "source": [
    "https://mapas-conaset.opendata.arcgis.com/\n",
    "\n",
    "https://mapas-conaset.opendata.arcgis.com/datasets/4b636b2f27164b0ebbeca0ab9db4d08a_0/explore"
   ]
  },
  {
   "cell_type": "code",
   "execution_count": null,
   "metadata": {},
   "outputs": [],
   "source": [
    "data_path = AVES_ROOT / \"data\" / \"external\" / \"conaset\"\n",
    "\n",
    "if not data_path.exists():\n",
    "    data_path.mkdir(parents=True)"
   ]
  },
  {
   "cell_type": "code",
   "execution_count": null,
   "metadata": {},
   "outputs": [],
   "source": [
    "file_path = data_path / \"2019-rm-accidents.json\"\n",
    "\n",
    "if not file_path.exists():\n",
    "    import requests\n",
    "    r = requests.get('https://opendata.arcgis.com/api/v3/datasets/4b636b2f27164b0ebbeca0ab9db4d08a_0/downloads/data?format=geojson&spatialRefId=4326&where=1%3D1')\n",
    "    with open(file_path, 'wt') as f:\n",
    "        f.write(r.text)"
   ]
  },
  {
   "cell_type": "code",
   "execution_count": null,
   "metadata": {},
   "outputs": [],
   "source": [
    "gdf = gpd.read_file(file_path, dtypes={'Fecha': 'str', 'Hora': 'str'}).to_crs('epsg:5361')"
   ]
  },
  {
   "cell_type": "code",
   "execution_count": null,
   "metadata": {},
   "outputs": [],
   "source": [
    "gdf"
   ]
  },
  {
   "cell_type": "code",
   "execution_count": null,
   "metadata": {},
   "outputs": [],
   "source": [
    "gdf.plot()"
   ]
  },
  {
   "cell_type": "code",
   "execution_count": null,
   "metadata": {},
   "outputs": [],
   "source": [
    "gdf.columns"
   ]
  },
  {
   "cell_type": "markdown",
   "metadata": {},
   "source": [
    "## Limpiado, Filtrado y Pre-Procesamiento"
   ]
  },
  {
   "cell_type": "code",
   "execution_count": null,
   "metadata": {},
   "outputs": [],
   "source": [
    "comunas = census.read_census_map(\n",
    "    \"comuna\", path=AVES_ROOT / \"data\" / \"external\" / \"censo_2017_R13\"\n",
    ").to_crs(\"epsg:5361\")\n",
    "\n",
    "zones = (\n",
    "    gpd.read_file(AVES_ROOT / \"data\" / \"processed\" / \"scl_zonas_urbanas.json\")\n",
    "    .set_index(\"ID\")\n",
    "    .to_crs(comunas.crs)\n",
    ")\n",
    "\n",
    "comunas_urbanas = (\n",
    "    comunas[comunas[\"COMUNA\"].isin(zones[\"Com\"].unique())]\n",
    "    .drop(\"NOM_COMUNA\", axis=1)\n",
    "    .copy()\n",
    ")\n",
    "\n",
    "comunas_urbanas[\"NombreComuna\"] = comunas_urbanas[\"COMUNA\"].map(\n",
    "    dict(zip(zones[\"Com\"], zones[\"Comuna\"].str.upper()))\n",
    ")\n",
    "\n",
    "bounding_box = zones.total_bounds\n",
    "comunas_urbanas = clip_area_geodataframe(\n",
    "    comunas_urbanas, zones.total_bounds, buffer=1000\n",
    ")\n",
    "\n",
    "comunas_urbanas.plot()"
   ]
  },
  {
   "cell_type": "code",
   "execution_count": null,
   "metadata": {},
   "outputs": [],
   "source": [
    "comunas_urbanas[\"NombreComuna\"] = comunas_urbanas[\"NombreComuna\"].replace(\n",
    "    {\"Á\": \"A\", \"Ú\": \"U\", \"Ó\": \"O\", \"Í\": \"I\", \"É\": \"E\"}, regex=True\n",
    ")\n"
   ]
  },
  {
   "cell_type": "code",
   "execution_count": null,
   "metadata": {},
   "outputs": [],
   "source": [
    "gdf[['COMUNAREAL', 'Comuna_1']].value_counts()"
   ]
  },
  {
   "cell_type": "code",
   "execution_count": null,
   "metadata": {},
   "outputs": [],
   "source": [
    "len(gdf[gdf['COMUNAREAL'] != gdf['Comuna_1']]) / len(gdf)"
   ]
  },
  {
   "cell_type": "code",
   "execution_count": null,
   "metadata": {},
   "outputs": [],
   "source": [
    "ax = comunas_urbanas.plot(edgecolor=\"black\", facecolor=\"none\")\n",
    "gdf[(gdf[\"COMUNAREAL\"] != gdf[\"Comuna_1\"]) & (gdf[\"Comuna_1\"] == \"SANTIAGO\")].plot(\n",
    "    column=\"COMUNAREAL\", legend=False, ax=ax\n",
    ")\n"
   ]
  },
  {
   "cell_type": "code",
   "execution_count": null,
   "metadata": {},
   "outputs": [],
   "source": [
    "ax = comunas_urbanas.plot(edgecolor=\"black\", facecolor=\"none\")\n",
    "gdf[(gdf[\"COMUNAREAL\"] != gdf[\"Comuna_1\"]) & (gdf[\"Comuna_1\"] == \"SANTIAGO\")].plot(\n",
    "    column=\"Comuna_1\", legend=False, ax=ax\n",
    ")"
   ]
  },
  {
   "cell_type": "code",
   "execution_count": null,
   "metadata": {},
   "outputs": [],
   "source": []
  },
  {
   "cell_type": "code",
   "execution_count": null,
   "metadata": {},
   "outputs": [],
   "source": [
    "scl_accidents = gpd.sjoin(gdf.to_crs(comunas_urbanas.crs), comunas_urbanas, op='within')\n",
    "\n",
    "scl_accidents.plot(alpha=0.01)"
   ]
  },
  {
   "cell_type": "code",
   "execution_count": null,
   "metadata": {},
   "outputs": [],
   "source": [
    "scl_accidents['Fallecidos'].value_counts()"
   ]
  },
  {
   "cell_type": "code",
   "execution_count": null,
   "metadata": {},
   "outputs": [],
   "source": [
    "scl_accidents['Graves'].value_counts()"
   ]
  },
  {
   "cell_type": "code",
   "execution_count": null,
   "metadata": {},
   "outputs": [],
   "source": [
    "scl_accidents['Menos_Grav'].value_counts()"
   ]
  },
  {
   "cell_type": "code",
   "execution_count": null,
   "metadata": {},
   "outputs": [],
   "source": [
    "scl_accidents['Ilesos'].value_counts()"
   ]
  },
  {
   "cell_type": "code",
   "execution_count": null,
   "metadata": {},
   "outputs": [],
   "source": [
    "scl_accidents['Leves'].value_counts()"
   ]
  },
  {
   "cell_type": "code",
   "execution_count": null,
   "metadata": {},
   "outputs": [],
   "source": [
    "scl_accidents['victimas'] = gdf[['Ilesos', 'Graves', 'Menos_Grav', 'Fallecidos', 'Leves']].sum(axis=1)"
   ]
  },
  {
   "cell_type": "code",
   "execution_count": null,
   "metadata": {},
   "outputs": [],
   "source": [
    "scl_accidents['victimas'].value_counts(sort=False).sort_index().plot(kind='bar', logy=True)"
   ]
  },
  {
   "cell_type": "code",
   "execution_count": null,
   "metadata": {},
   "outputs": [],
   "source": [
    "scl_accidents['Fecha']"
   ]
  },
  {
   "cell_type": "code",
   "execution_count": null,
   "metadata": {},
   "outputs": [],
   "source": [
    "scl_accidents['fecha'] = pd.to_datetime(gdf['Fecha'])"
   ]
  },
  {
   "cell_type": "code",
   "execution_count": null,
   "metadata": {},
   "outputs": [],
   "source": [
    "scl_accidents['Hora']"
   ]
  },
  {
   "cell_type": "markdown",
   "metadata": {},
   "source": [
    "## ¿Qué contiene?"
   ]
  },
  {
   "cell_type": "code",
   "execution_count": null,
   "metadata": {},
   "outputs": [],
   "source": [
    "gdf.columns"
   ]
  },
  {
   "cell_type": "code",
   "execution_count": null,
   "metadata": {},
   "outputs": [],
   "source": [
    "scl_accidents['Condición'].value_counts()"
   ]
  },
  {
   "cell_type": "code",
   "execution_count": null,
   "metadata": {},
   "outputs": [],
   "source": [
    "scl_accidents['Tipo__CONA'].value_counts()"
   ]
  },
  {
   "cell_type": "code",
   "execution_count": null,
   "metadata": {},
   "outputs": [],
   "source": [
    "scl_accidents['Causa__CON'].value_counts()"
   ]
  },
  {
   "attachments": {},
   "cell_type": "markdown",
   "metadata": {},
   "source": [
    "## ¿Cuándo?"
   ]
  },
  {
   "cell_type": "code",
   "execution_count": null,
   "metadata": {},
   "outputs": [],
   "source": []
  },
  {
   "cell_type": "code",
   "execution_count": null,
   "metadata": {},
   "outputs": [],
   "source": [
    "scl_accidents.resample('1d', on='fecha').size().plot()"
   ]
  },
  {
   "cell_type": "code",
   "execution_count": null,
   "metadata": {},
   "outputs": [],
   "source": [
    "scl_accidents.resample('1w', on='fecha').size().plot()"
   ]
  },
  {
   "cell_type": "code",
   "execution_count": null,
   "metadata": {},
   "outputs": [],
   "source": [
    "scl_accidents['fecha']"
   ]
  },
  {
   "attachments": {},
   "cell_type": "markdown",
   "metadata": {},
   "source": [
    "## ¿Dónde?"
   ]
  },
  {
   "cell_type": "code",
   "execution_count": null,
   "metadata": {},
   "outputs": [],
   "source": [
    "from aves.visualization.maps import heat_map, heatmap\n",
    "from aves.visualization.figures import small_multiples_from_geodataframe\n",
    "\n",
    "fig, ax = small_multiples_from_geodataframe(comunas_urbanas, 1, height=7)\n",
    "\n",
    "comunas_urbanas.plot(ax=ax, facecolor=\"#efefef\", edgecolor=\"none\")\n",
    "heat_map(ax, scl_accidents, weight=\"victimas\", low_threshold=0.05)\n",
    "comunas_urbanas.plot(ax=ax, facecolor=\"none\", edgecolor=\"white\")\n"
   ]
  },
  {
   "cell_type": "code",
   "execution_count": null,
   "metadata": {},
   "outputs": [],
   "source": [
    "from aves.features.utils import normalize_rows\n",
    "victimas_por_comuna = scl_accidents.groupby(['COMUNAREAL', 'Tipo__CONA'])['victimas'].sum().unstack(fill_value=0).pipe(normalize_rows)\n",
    "sns.clustermap(victimas_por_comuna, method='ward')"
   ]
  },
  {
   "cell_type": "code",
   "execution_count": null,
   "metadata": {},
   "outputs": [],
   "source": [
    "scl_accidents['Ubicación'].value_counts()"
   ]
  },
  {
   "attachments": {},
   "cell_type": "markdown",
   "metadata": {},
   "source": [
    "## ¿Cómo?"
   ]
  },
  {
   "cell_type": "code",
   "execution_count": null,
   "metadata": {},
   "outputs": [],
   "source": [
    "sns.clustermap(\n",
    "    scl_accidents.groupby(\"Ubicación\")[\"Tipo__CONA\"]\n",
    "    .value_counts()\n",
    "    .unstack(fill_value=0)\n",
    "    .pipe(normalize_rows)\n",
    ")"
   ]
  },
  {
   "cell_type": "code",
   "execution_count": null,
   "metadata": {},
   "outputs": [],
   "source": [
    "sns.clustermap(\n",
    "    scl_accidents.groupby(\"Tipo__CONA\")[\"victimas\"]\n",
    "    .value_counts()\n",
    "    .unstack(fill_value=0)\n",
    "    .pipe(normalize_rows)\n",
    ")\n"
   ]
  },
  {
   "cell_type": "code",
   "execution_count": null,
   "metadata": {},
   "outputs": [],
   "source": [
    "sns.clustermap(\n",
    "    scl_accidents.groupby(\"Tipo__CONA\")[\"Causa__CON\"]\n",
    "    .value_counts()\n",
    "    .unstack(fill_value=0)\n",
    "    .pipe(normalize_rows)\n",
    ")"
   ]
  },
  {
   "cell_type": "code",
   "execution_count": null,
   "metadata": {},
   "outputs": [],
   "source": [
    "sns.clustermap(\n",
    "    scl_accidents.groupby(\"Ubicación\")[\"Causa__CON\"]\n",
    "    .value_counts()\n",
    "    .unstack(fill_value=0)\n",
    "    .pipe(normalize_rows)\n",
    ")"
   ]
  },
  {
   "cell_type": "code",
   "execution_count": null,
   "metadata": {},
   "outputs": [],
   "source": [
    "fig, axes = plt.subplots(1, 3, figsize=(14, 4))\n",
    "\n",
    "mean_accidents = (\n",
    "    lambda name, x: x.resample(\"1d\", on=\"fecha\")\n",
    "    # .size()\n",
    "    [\"victimas\"]\n",
    "    .sum()\n",
    "    .rolling(14, center=True)\n",
    "    .mean()\n",
    "    .rename(name)\n",
    "    .to_frame()\n",
    "    .apply(lambda x: (x - x.mean()) / x.std())\n",
    ")\n",
    "\n",
    "for ax, cat in zip(axes, [\"COLISION\", \"CHOQUE\", \"ATROPELLO\"]):\n",
    "    # print(g)\n",
    "    g = scl_accidents[scl_accidents[\"Tipo__CONA\"] == cat]\n",
    "    mean_accidents(\"all\", scl_accidents).plot(ax=ax, color=\"grey\", linewidth=0.5, legend=False)\n",
    "    mean_accidents(cat, g).plot(ax=ax, linewidth=1.5, color=\"purple\", legend=False)\n",
    "    ax.set_title(cat)\n",
    "    sns.despine(ax=ax, left=True, bottom=True)\n",
    "\n",
    "fig.tight_layout()\n"
   ]
  },
  {
   "cell_type": "code",
   "execution_count": null,
   "metadata": {},
   "outputs": [],
   "source": []
  },
  {
   "cell_type": "markdown",
   "metadata": {},
   "source": [
    "**¿Qué concluyen?**"
   ]
  }
 ],
 "metadata": {
  "kernelspec": {
   "display_name": "aves",
   "language": "python",
   "name": "python3"
  },
  "language_info": {
   "codemirror_mode": {
    "name": "ipython",
    "version": 3
   },
   "file_extension": ".py",
   "mimetype": "text/x-python",
   "name": "python",
   "nbconvert_exporter": "python",
   "pygments_lexer": "ipython3",
   "version": "3.9.15"
  },
  "orig_nbformat": 4
 },
 "nbformat": 4,
 "nbformat_minor": 2
}

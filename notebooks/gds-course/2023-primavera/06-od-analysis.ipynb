{
 "cells": [
  {
   "cell_type": "markdown",
   "metadata": {},
   "source": [
    "Fuente de los datos: [Foursquare dataset \"Global-scale Check-in Dataset with User Social Networks\"](https://sites.google.com/site/yangdingqi/home/foursquare-dataset)."
   ]
  },
  {
   "cell_type": "code",
   "execution_count": null,
   "metadata": {},
   "outputs": [],
   "source": [
    "import sys\n",
    "from pathlib import Path\n",
    "\n",
    "AVES_ROOT = Path(\"../../..\")\n",
    "\n",
    "DATA_PATH = AVES_ROOT / \"data\" / \"external\" / \"foursquare\"\n",
    "DATA_PATH\n"
   ]
  },
  {
   "cell_type": "code",
   "execution_count": null,
   "metadata": {},
   "outputs": [],
   "source": [
    "import matplotlib as mpl\n",
    "import matplotlib.pyplot as plt\n",
    "import seaborn as sns\n",
    "import numpy as np\n",
    "import pandas as pd\n",
    "import geopandas as gpd\n",
    "\n",
    "# esto configura la calidad de la imagen. dependerá de tu resolución. el valor por omisión es 80\n",
    "mpl.rcParams[\"figure.dpi\"] = 120\n",
    "# esto depende de las fuentes que tengas instaladas en el sistema.\n",
    "# mpl.rcParams[\"font.family\"] = \"Fira Sans Extra Condensed\"\n"
   ]
  },
  {
   "cell_type": "code",
   "execution_count": null,
   "metadata": {},
   "outputs": [],
   "source": [
    "bounds = [-70.790663,-33.748251,-70.709295,-33.704992]"
   ]
  },
  {
   "cell_type": "code",
   "execution_count": null,
   "metadata": {},
   "outputs": [],
   "source": [
    "\n",
    "from shapely.geometry import box\n",
    "zones = gpd.GeoDataFrame(geometry=[box(*bounds)]).set_crs('epsg:4326')\n",
    "zones.head()\n"
   ]
  },
  {
   "cell_type": "code",
   "execution_count": null,
   "metadata": {},
   "outputs": [],
   "source": [
    "from aves.models.grid import H3Grid\n",
    "\n",
    "grid = H3Grid.from_geodf(zones, grid_level=9, extra_margin=0.05).geodf\n",
    "grid.plot()\n"
   ]
  },
  {
   "cell_type": "code",
   "execution_count": null,
   "metadata": {},
   "outputs": [],
   "source": [
    "import dask.dataframe as dd\n",
    "\n",
    "checkin_pois = dd.read_csv(\n",
    "    DATA_PATH / \"dataset_WWW2019\" / \"raw_POIs.txt\",\n",
    "    sep=\"\\t\",\n",
    "    names=[\"poi_id\", \"lat\", \"lon\", \"category\", \"country\"],\n",
    "    encoding=\"utf-8\",\n",
    ")\n",
    "checkin_pois = checkin_pois[\n",
    "    checkin_pois[\"lat\"].between(bounds[1], bounds[3])\n",
    "    & checkin_pois[\"lon\"].between(bounds[0], bounds[2])\n",
    "].compute()\n",
    "\n",
    "checkin_pois.head()\n"
   ]
  },
  {
   "cell_type": "code",
   "execution_count": null,
   "metadata": {},
   "outputs": [],
   "source": [
    "from aves.features.geo import to_point_geodataframe\n",
    "\n",
    "pois = to_point_geodataframe(\n",
    "    checkin_pois, longitude=\"lon\", latitude=\"lat\", drop=True\n",
    ")  \n",
    "pois\n"
   ]
  },
  {
   "cell_type": "code",
   "execution_count": null,
   "metadata": {},
   "outputs": [],
   "source": [
    "pois[\"category\"].value_counts().sort_values().tail(75).plot(\n",
    "    kind=\"barh\", logx=True, width=0.9, figsize=(7, 15)\n",
    ")\n"
   ]
  },
  {
   "cell_type": "code",
   "execution_count": null,
   "metadata": {},
   "outputs": [],
   "source": [
    "ax = grid.plot(edgecolor='white', facecolor='#efefef')\n",
    "pois.plot(marker=\".\", markersize=1, color=\"purple\", alpha=0.5, ax=ax)\n"
   ]
  },
  {
   "cell_type": "code",
   "execution_count": null,
   "metadata": {},
   "outputs": [],
   "source": [
    "grid_pois = gpd.sjoin(pois, grid, predicate=\"within\")\n",
    "grid_pois\n"
   ]
  },
  {
   "cell_type": "code",
   "execution_count": null,
   "metadata": {},
   "outputs": [],
   "source": [
    "from aves.visualization.figures import figure_from_geodataframe\n",
    "from aves.visualization.maps import choropleth_map\n",
    "\n",
    "fig, ax = figure_from_geodataframe(zones, height=7)\n",
    "\n",
    "choropleth_map(\n",
    "    ax,\n",
    "    grid.join(grid_pois.groupby(\"index_right\").size().rename(\"n_pois\")),\n",
    "    \"n_pois\",\n",
    ")\n"
   ]
  },
  {
   "cell_type": "code",
   "execution_count": null,
   "metadata": {},
   "outputs": [],
   "source": [
    "from aves.features.utils import logodds_ratio_with_uninformative_dirichlet_prior\n",
    "\n",
    "zone_pois = (\n",
    "    grid_pois.groupby([\"index_right\", \"category\"])\n",
    "    .size()\n",
    "    .unstack(fill_value=0)\n",
    "    .pipe(logodds_ratio_with_uninformative_dirichlet_prior)\n",
    ")\n",
    "\n",
    "sns.clustermap(zone_pois, center=0, method=\"ward\", cmap=\"PuOr_r\")\n"
   ]
  },
  {
   "cell_type": "code",
   "execution_count": null,
   "metadata": {},
   "outputs": [],
   "source": [
    "# con esto nos quedamos solamente con las celdas que tienen POIs\n",
    "grid = grid.loc[zone_pois.index].copy()\n"
   ]
  },
  {
   "cell_type": "code",
   "execution_count": null,
   "metadata": {},
   "outputs": [],
   "source": [
    "from aves.visualization.figures import small_multiples_from_geodataframe\n",
    "\n",
    "fig, axes = small_multiples_from_geodataframe(zones, 3, height=5)\n",
    "\n",
    "for ax, col in zip(axes, [\"Home (private)\", \"Office\", \"Plaza\"]):\n",
    "    choropleth_map(ax, grid.join(zone_pois), col, linewidth=0.1, edgecolor=\"black\")\n",
    "    ax.set_title(col)\n"
   ]
  },
  {
   "cell_type": "code",
   "execution_count": null,
   "metadata": {},
   "outputs": [],
   "source": []
  },
  {
   "cell_type": "code",
   "execution_count": null,
   "metadata": {},
   "outputs": [],
   "source": [
    "checkins = (\n",
    "    dd.read_csv(\n",
    "        DATA_PATH / \"dataset_WWW2019\" / \"raw_Checkins_anonymized.txt\",\n",
    "        sep=\"\\t\",\n",
    "        names=[\"user_id\", \"poi_id\", \"datetime\", \"delta_time\"],\n",
    "    )\n",
    "    # nos interesan los checkins en los POIs que conocemos\n",
    "    .join(checkin_pois.set_index(\"poi_id\"), on=\"poi_id\", how=\"inner\")\n",
    "    .compute()\n",
    ")\n",
    "checkins.head()\n"
   ]
  },
  {
   "cell_type": "code",
   "execution_count": null,
   "metadata": {},
   "outputs": [],
   "source": []
  },
  {
   "cell_type": "code",
   "execution_count": null,
   "metadata": {},
   "outputs": [],
   "source": [
    "from aves.features.geo import to_point_geodataframe\n",
    "\n",
    "checkins_geo = to_point_geodataframe(\n",
    "    checkins, longitude=\"lon\", latitude=\"lat\", drop=True\n",
    ") \n"
   ]
  },
  {
   "cell_type": "code",
   "execution_count": null,
   "metadata": {},
   "outputs": [],
   "source": [
    "checkins_geo.groupby(\"category\").size().sort_values().tail(100).plot(\n",
    "    kind=\"barh\", logx=True, figsize=(7, 15), width=0.9\n",
    ")\n"
   ]
  },
  {
   "cell_type": "code",
   "execution_count": null,
   "metadata": {},
   "outputs": [],
   "source": [
    "from aves.visualization.maps import bubble_map\n",
    "\n",
    "fig, ax = figure_from_geodataframe(zones, height=7)\n",
    "\n",
    "bubble_map(\n",
    "    ax,\n",
    "    pois.join(\n",
    "        checkins_geo.groupby(\"poi_id\")\n",
    "        .size()\n",
    "        .rename(\"popularity\")\n",
    "        .to_frame()\n",
    "        .pipe(np.sqrt),\n",
    "        on=\"poi_id\",\n",
    "    ),\n",
    "    \"popularity\",\n",
    "    edgecolor=\"none\",\n",
    "    scale=10,\n",
    "    alpha=0.1,\n",
    ")\n"
   ]
  },
  {
   "cell_type": "code",
   "execution_count": null,
   "metadata": {},
   "outputs": [],
   "source": [
    "grid_checkins = gpd.sjoin(checkins_geo, grid, predicate=\"within\")\n",
    "grid_checkins\n"
   ]
  },
  {
   "cell_type": "code",
   "execution_count": null,
   "metadata": {},
   "outputs": [],
   "source": [
    "fig, axes = small_multiples_from_geodataframe(zones, 3, height=5)\n",
    "\n",
    "grid_popularity = (\n",
    "    grid_checkins.groupby([\"index_right\", \"category\"])\n",
    "    .size()\n",
    "    .unstack(fill_value=0)\n",
    "    .pipe(logodds_ratio_with_uninformative_dirichlet_prior)\n",
    ")\n",
    "\n",
    "for ax, col in zip(axes, [\"Home (private)\", \"Office\", \"Plaza\"]):\n",
    "    choropleth_map(\n",
    "        ax, grid.join(grid_popularity), col, linewidth=0.1, edgecolor=\"black\"\n",
    "    )\n",
    "    ax.set_title(col)\n"
   ]
  },
  {
   "cell_type": "markdown",
   "metadata": {},
   "source": [
    "Para mostrar viajes vamos a considerar los desplazamientos desde un lugar a otro. Usaremos un criterio simple, sin discriminar si los checkins se realizaron en el mismo día. Para ello haremos uso de dos pasos:\n",
    "\n",
    "1. Definiremos una función _shift_ que concatena dos filas contiguas en la tabla.\n",
    "2. Al ordenar la tabla por `user_id` y `datetime`, dos filas contiguas que tengan el mismo `user_id` representan un desplazamiento."
   ]
  },
  {
   "cell_type": "code",
   "execution_count": null,
   "metadata": {},
   "outputs": [],
   "source": [
    "def shift(df):\n",
    "    origin = df.rename({\"poi_id\": \"origin\"}, axis=1)[[\"origin\", \"user_id\"]]\n",
    "    destination = df.rename({\"poi_id\": \"destination\", \"user_id\": \"user_id_d\"}, axis=1)[\n",
    "        [\"destination\", \"user_id_d\"]\n",
    "    ].shift()\n",
    "    trips = (\n",
    "        origin.join(destination)\n",
    "        .dropna()\n",
    "        .pipe(lambda x: x[(x.user_id == x.user_id_d) & (x.origin != x.destination)])\n",
    "        .groupby([\"user_id\", \"origin\", \"destination\"])\n",
    "        .size()\n",
    "    )\n",
    "    trips.name = \"n_trips\"\n",
    "    return trips\n"
   ]
  },
  {
   "cell_type": "code",
   "execution_count": null,
   "metadata": {},
   "outputs": [],
   "source": [
    "user_trip_counts = grid_checkins.sort_values(['user_id', 'datetime']).pipe(shift).reset_index()\n",
    "user_trip_counts.head()\n"
   ]
  },
  {
   "cell_type": "code",
   "execution_count": null,
   "metadata": {},
   "outputs": [],
   "source": [
    "user_trips_grid = (\n",
    "    user_trip_counts.join(\n",
    "        grid_pois[[\"poi_id\", \"index_right\", \"category\"]].set_index(\"poi_id\"),\n",
    "        on=\"origin\",\n",
    "    )\n",
    "    .rename({\"index_right\": \"origin_cell_id\", \"category\": \"origin_category\"}, axis=1)\n",
    "    .join(\n",
    "        grid_pois[[\"poi_id\", \"index_right\", \"category\"]].set_index(\"poi_id\"),\n",
    "        on=\"destination\",\n",
    "    )\n",
    "    .rename(\n",
    "        {\"index_right\": \"destination_cell_id\", \"category\": \"destination_category\"},\n",
    "        axis=1,\n",
    "    )\n",
    ")\n",
    "user_trips_grid.head()\n"
   ]
  },
  {
   "cell_type": "markdown",
   "metadata": {},
   "source": [
    "Visualizemos en flowmap.blue. Visitar:\n",
    "\n",
    "https://flowmap.blue/in-browser\n",
    "\n",
    "Y luego copiar en cada caja el output de las celdas que contengan `to_csv`."
   ]
  },
  {
   "cell_type": "code",
   "execution_count": null,
   "metadata": {},
   "outputs": [],
   "source": [
    "locations = (\n",
    "    grid.reset_index()\n",
    "    .rename({\"index\": \"id\", \"h3_cell_id\": \"name\"}, axis=1)\n",
    "    .assign(lat=lambda x: x.centroid.geometry.y, lon=lambda x: x.centroid.geometry.x)\n",
    "    .drop(\"geometry\", axis=1)\n",
    ")\n",
    "locations\n"
   ]
  },
  {
   "cell_type": "code",
   "execution_count": null,
   "metadata": {},
   "outputs": [],
   "source": [
    "flows = (\n",
    "    user_trips_grid.groupby([\"origin_cell_id\", \"destination_cell_id\"])[\"n_trips\"]\n",
    "    .sum()\n",
    "    .rename(\"count\")\n",
    "    .reset_index()\n",
    "    .rename({\"origin_cell_id\": \"origin\", \"destination_cell_id\": \"dest\"}, axis=1)\n",
    ")\n",
    "flows\n"
   ]
  },
  {
   "cell_type": "code",
   "execution_count": null,
   "metadata": {},
   "outputs": [],
   "source": [
    "print(locations.to_csv(index=False))\n"
   ]
  },
  {
   "cell_type": "code",
   "execution_count": null,
   "metadata": {},
   "outputs": [],
   "source": [
    "print(flows.to_csv(index=False))\n"
   ]
  },
  {
   "cell_type": "code",
   "execution_count": null,
   "metadata": {},
   "outputs": [],
   "source": []
  },
  {
   "cell_type": "markdown",
   "metadata": {},
   "source": [
    "Otro tipo de O-D: por actividad."
   ]
  },
  {
   "cell_type": "code",
   "execution_count": null,
   "metadata": {},
   "outputs": [],
   "source": [
    "top_destinations = (\n",
    "    user_trips_grid.groupby(\"destination_category\")[\"n_trips\"].sum().sort_values()\n",
    ")\n",
    "top_origins = user_trips_grid.groupby(\"origin_category\")[\"n_trips\"].sum().sort_values()\n"
   ]
  },
  {
   "cell_type": "code",
   "execution_count": null,
   "metadata": {},
   "outputs": [],
   "source": [
    "popular_transitions = (\n",
    "    user_trips_grid[\n",
    "        user_trips_grid[\"origin_category\"] != user_trips_grid[\"destination_category\"]\n",
    "    ]\n",
    "    .groupby([\"origin_category\", \"destination_category\"])[\"n_trips\"]\n",
    "    .sum()\n",
    "    .sort_values(ascending=False)\n",
    ")\n",
    "popular_transitions\n"
   ]
  },
  {
   "cell_type": "code",
   "execution_count": null,
   "metadata": {},
   "outputs": [],
   "source": [
    "sns.clustermap(\n",
    "    popular_transitions.unstack(fill_value=0)\n",
    "    .loc[top_origins[top_origins > 5].index][\n",
    "        top_destinations[top_destinations > 5].index\n",
    "    ]\n",
    "    .pipe(lambda x: np.log(1 + x)),\n",
    "    cmap=\"inferno\", figsize=(24, 24)\n",
    ")\n"
   ]
  },
  {
   "cell_type": "code",
   "execution_count": null,
   "metadata": {},
   "outputs": [],
   "source": []
  }
 ],
 "metadata": {
  "kernelspec": {
   "display_name": "aves",
   "language": "python",
   "name": "python3"
  },
  "language_info": {
   "codemirror_mode": {
    "name": "ipython",
    "version": 3
   },
   "file_extension": ".py",
   "mimetype": "text/x-python",
   "name": "python",
   "nbconvert_exporter": "python",
   "pygments_lexer": "ipython3",
   "version": "3.9.15"
  },
  "orig_nbformat": 4
 },
 "nbformat": 4,
 "nbformat_minor": 2
}

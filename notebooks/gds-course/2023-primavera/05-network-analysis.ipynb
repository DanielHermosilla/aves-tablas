{
 "cells": [
  {
   "cell_type": "code",
   "execution_count": null,
   "metadata": {},
   "outputs": [],
   "source": [
    "import sys\n",
    "from pathlib import Path\n",
    "\n",
    "AVES_ROOT = Path(\"../../..\")\n",
    "\n",
    "EOD_PATH = AVES_ROOT / \"data\" / \"external\" / \"EOD_STGO\"\n",
    "EOD_PATH"
   ]
  },
  {
   "cell_type": "code",
   "execution_count": null,
   "metadata": {},
   "outputs": [],
   "source": [
    "import matplotlib as mpl\n",
    "import matplotlib.pyplot as plt\n",
    "import seaborn as sns\n",
    "import numpy as np\n",
    "import pandas as pd\n",
    "import geopandas as gpd\n",
    "\n",
    "# esto configura la calidad de la imagen. dependerá de tu resolución. el valor por omisión es 80\n",
    "mpl.rcParams[\"figure.dpi\"] = 120\n",
    "# esto depende de las fuentes que tengas instaladas en el sistema.\n",
    "#mpl.rcParams[\"font.family\"] = \"Fira Sans Extra Condensed\"\n"
   ]
  },
  {
   "cell_type": "code",
   "execution_count": null,
   "metadata": {},
   "outputs": [],
   "source": [
    "zones = gpd.read_file(AVES_ROOT / \"data\" / \"processed\" / \"scl_zonas_urbanas.json\")\n",
    "zones.head()"
   ]
  },
  {
   "cell_type": "code",
   "execution_count": null,
   "metadata": {},
   "outputs": [],
   "source": [
    "from aves.data import census\n",
    "\n",
    "comunas = census.read_census_map('comuna', path=AVES_ROOT / \"data\" / \"external\" / \"censo_2017_R13\")"
   ]
  },
  {
   "cell_type": "code",
   "execution_count": null,
   "metadata": {},
   "outputs": [],
   "source": [
    "comunas_urbanas = comunas[comunas['COMUNA'].isin(zones['Com'].unique())].drop('NOM_COMUNA', axis=1).copy()\n",
    "comunas_urbanas['NombreComuna'] = comunas_urbanas['COMUNA'].map(dict(zip(zones['Com'], zones['Comuna'])))\n",
    "comunas_urbanas.plot(facecolor=\"none\", edgecolor=\"#abacab\")"
   ]
  },
  {
   "cell_type": "code",
   "execution_count": null,
   "metadata": {},
   "outputs": [],
   "source": [
    "from aves.features.geo import clip_area_geodataframe\n",
    "comunas_urbanas = clip_area_geodataframe(comunas_urbanas, zones.total_bounds, buffer=0.05)\n",
    "comunas_urbanas.plot()"
   ]
  },
  {
   "cell_type": "code",
   "execution_count": null,
   "metadata": {},
   "outputs": [],
   "source": [
    "from aves.models.network import Network\n"
   ]
  },
  {
   "cell_type": "code",
   "execution_count": null,
   "metadata": {},
   "outputs": [],
   "source": [
    "from aves.visualization.networks import NodeLink\n"
   ]
  },
  {
   "cell_type": "code",
   "execution_count": null,
   "metadata": {},
   "outputs": [],
   "source": [
    "from aves.visualization.figures import figure_from_geodataframe\n",
    "\n"
   ]
  },
  {
   "cell_type": "code",
   "execution_count": null,
   "metadata": {},
   "outputs": [],
   "source": [
    "import pyrosm\n",
    "\n",
    "# redes con OSM\n",
    "OSM_PATH = AVES_ROOT / \"data\" / \"external\" / \"OSM\"\n",
    "osm = pyrosm.OSM(str(OSM_PATH / 'clipped-scl-osm.pbf'))"
   ]
  },
  {
   "cell_type": "code",
   "execution_count": null,
   "metadata": {},
   "outputs": [],
   "source": [
    "network_nodes, network_edges  = osm.get_network(nodes=True, network_type='driving')"
   ]
  },
  {
   "cell_type": "code",
   "execution_count": null,
   "metadata": {},
   "outputs": [],
   "source": [
    "network_nodes"
   ]
  },
  {
   "cell_type": "code",
   "execution_count": null,
   "metadata": {},
   "outputs": [],
   "source": [
    "network_edges['highway'].value_counts()"
   ]
  },
  {
   "cell_type": "code",
   "execution_count": null,
   "metadata": {},
   "outputs": [],
   "source": [
    "network_edges[network_edges['highway'].isin(['motorway', 'primary', 'secondary'])]"
   ]
  },
  {
   "cell_type": "code",
   "execution_count": null,
   "metadata": {},
   "outputs": [],
   "source": [
    "network_edges[['u', 'v', 'length']]"
   ]
  },
  {
   "cell_type": "code",
   "execution_count": null,
   "metadata": {},
   "outputs": [],
   "source": [
    "osm_network = Network.from_edgelist(\n",
    "    network_edges[network_edges['highway'].isin(['motorway', 'primary', 'secondary'])],\n",
    "    source=\"u\",\n",
    "    target=\"v\",\n",
    "    weight=\"length\",\n",
    ")"
   ]
  },
  {
   "cell_type": "code",
   "execution_count": null,
   "metadata": {},
   "outputs": [],
   "source": [
    "connected_network = osm_network.largest_connected_component(directed=False)"
   ]
  },
  {
   "cell_type": "code",
   "execution_count": null,
   "metadata": {},
   "outputs": [],
   "source": [
    "osm_network.num_vertices, connected_network.num_vertices"
   ]
  },
  {
   "cell_type": "code",
   "execution_count": null,
   "metadata": {},
   "outputs": [],
   "source": [
    "osm_network.num_edges, connected_network.num_edges"
   ]
  },
  {
   "cell_type": "code",
   "execution_count": null,
   "metadata": {},
   "outputs": [],
   "source": [
    "nodelink = NodeLink(connected_network)\n",
    "nodelink.layout_nodes(\n",
    "    method=\"geographical\", geodataframe=network_nodes, node_column=\"id\"\n",
    ")\n"
   ]
  },
  {
   "cell_type": "code",
   "execution_count": null,
   "metadata": {},
   "outputs": [],
   "source": [
    "fig, ax = figure_from_geodataframe(zones, height=7)\n",
    "\n",
    "comunas_urbanas.plot(ax=ax, facecolor=\"none\", edgecolor=\"#abacab\", zorder=1)\n",
    "\n",
    "nodelink.plot(\n",
    "    ax,\n",
    "    nodes=dict(color=\"black\", edgecolor=\"none\", node_size=1, alpha=1.0),\n",
    "    edges=dict(alpha=0.25, linewidth=0.25),\n",
    "    zorder=2,\n",
    ")\n",
    "\n",
    "fig.tight_layout()\n"
   ]
  },
  {
   "cell_type": "code",
   "execution_count": null,
   "metadata": {},
   "outputs": [],
   "source": [
    "pagerank = connected_network.estimate_pagerank()\n",
    "pagerank"
   ]
  },
  {
   "cell_type": "code",
   "execution_count": null,
   "metadata": {},
   "outputs": [],
   "source": [
    "pd.Series(pagerank.a).plot(kind='hist', bins=100)"
   ]
  },
  {
   "cell_type": "code",
   "execution_count": null,
   "metadata": {},
   "outputs": [],
   "source": [
    "nodelink.set_node_drawing('plain', weights=np.power(np.array(pagerank.a), 2))"
   ]
  },
  {
   "cell_type": "code",
   "execution_count": null,
   "metadata": {},
   "outputs": [],
   "source": [
    "fig, ax = figure_from_geodataframe(zones, height=7)\n",
    "\n",
    "comunas_urbanas.plot(ax=ax, facecolor=\"none\", edgecolor=\"#abacab\", zorder=1)\n",
    "\n",
    "nodelink.plot(\n",
    "    ax,\n",
    "    nodes=dict(color=\"black\", edgecolor=\"none\", node_size=50, alpha=0.01),\n",
    "    edges=dict(alpha=0.1, linewidth=0.25),\n",
    "    zorder=2,\n",
    ")\n",
    "\n",
    "fig.tight_layout()"
   ]
  },
  {
   "cell_type": "code",
   "execution_count": null,
   "metadata": {},
   "outputs": [],
   "source": [
    "node_betweenness, edge_betweenness = connected_network.estimate_betweenness()"
   ]
  },
  {
   "cell_type": "code",
   "execution_count": null,
   "metadata": {},
   "outputs": [],
   "source": [
    "pd.Series(node_betweenness.a).plot(kind='hist', bins=100)"
   ]
  },
  {
   "cell_type": "code",
   "execution_count": null,
   "metadata": {},
   "outputs": [],
   "source": [
    "pd.Series(edge_betweenness.a).plot(kind='hist', bins=100)"
   ]
  },
  {
   "cell_type": "code",
   "execution_count": null,
   "metadata": {},
   "outputs": [],
   "source": [
    "nodelink.set_node_drawing('plain', weights=np.power(np.array(node_betweenness.a), 2))"
   ]
  },
  {
   "cell_type": "code",
   "execution_count": null,
   "metadata": {},
   "outputs": [],
   "source": [
    "nodelink.set_edge_drawing('weighted', weights=np.sqrt(np.array(edge_betweenness.a)))"
   ]
  },
  {
   "cell_type": "code",
   "execution_count": null,
   "metadata": {},
   "outputs": [],
   "source": [
    "fig, ax = figure_from_geodataframe(zones, height=9)\n",
    "\n",
    "comunas_urbanas.plot(ax=ax, facecolor=\"none\", edgecolor=\"#abacab\", zorder=1)\n",
    "\n",
    "nodelink.plot(\n",
    "    ax,\n",
    "    nodes=dict(color=\"black\", edgecolor=\"none\", node_size=10, alpha=0.75),\n",
    "    edges=dict(alpha=0.95, linewidth=3, palette='YlOrRd', ),\n",
    "    zorder=2,\n",
    ")\n",
    "\n",
    "fig.tight_layout()"
   ]
  },
  {
   "cell_type": "code",
   "execution_count": null,
   "metadata": {},
   "outputs": [],
   "source": [
    "# camino más corto\n",
    "src_point = (-70.6651616, -33.4582698)\n",
    "dst_point = (-70.6397468, -33.4391656)\n"
   ]
  },
  {
   "cell_type": "code",
   "execution_count": null,
   "metadata": {},
   "outputs": [],
   "source": [
    "import shapely.geometry\n",
    "\n",
    "_network_nodes = network_nodes[network_nodes['id'].isin(connected_network.node_map.keys())]\n",
    "\n",
    "def get_node_id(query_point):\n",
    "    query_point_node_id = _network_nodes.distance(\n",
    "        shapely.geometry.Point(query_point)\n",
    "    ).idxmin()\n",
    "    return _network_nodes.loc[query_point_node_id]['id']\n"
   ]
  },
  {
   "cell_type": "code",
   "execution_count": null,
   "metadata": {},
   "outputs": [],
   "source": [
    "src_node_id = get_node_id(src_point)\n",
    "dst_node_id = get_node_id(dst_point)\n",
    "\n",
    "src_node_id, dst_node_id"
   ]
  },
  {
   "cell_type": "code",
   "execution_count": null,
   "metadata": {},
   "outputs": [],
   "source": [
    "path = connected_network.shortest_path(src_node_id, dst_node_id)\n",
    "len(path)"
   ]
  },
  {
   "cell_type": "code",
   "execution_count": null,
   "metadata": {},
   "outputs": [],
   "source": [
    "len(path[0])"
   ]
  },
  {
   "cell_type": "code",
   "execution_count": null,
   "metadata": {},
   "outputs": [],
   "source": [
    "path_network = connected_network.subgraph(nodes=path[0])\n",
    "path_nodelink = NodeLink(path_network)\n",
    "path_nodelink.layout_nodes(\n",
    "    method=\"geographical\", geodataframe=network_nodes, node_column=\"id\"\n",
    ")"
   ]
  },
  {
   "cell_type": "code",
   "execution_count": null,
   "metadata": {},
   "outputs": [],
   "source": [
    "fig, ax = figure_from_geodataframe(zones[zones[\"NOM_COMUNA\"] == \"SANTIAGO\"], height=7)\n",
    "\n",
    "comunas_urbanas.plot(ax=ax, facecolor=\"none\", edgecolor=\"#abacab\", zorder=1)\n",
    "\n",
    "nodelink.plot(\n",
    "    ax,\n",
    "    nodes=dict(color=\"black\", edgecolor=\"none\", node_size=10, alpha=0.75),\n",
    "    edges=dict(alpha=0.95, linewidth=2, palette='Greys', ),\n",
    "    zorder=2,\n",
    ")\n",
    "\n",
    "path_nodelink.plot(\n",
    "    ax,\n",
    "    nodes=dict(color=\"black\", edgecolor=\"none\", node_size=1, alpha=0.75),\n",
    "    edges=dict(alpha=0.95, linewidth=5, color='red'),\n",
    "    zorder=2,\n",
    ")\n",
    "\n",
    "fig.tight_layout()\n"
   ]
  },
  {
   "cell_type": "code",
   "execution_count": null,
   "metadata": {},
   "outputs": [],
   "source": [
    "import graph_tool.topology\n",
    "\n",
    "min_tree = graph_tool.topology.min_spanning_tree(connected_network.graph, weights=connected_network._edge_weight)\n",
    "min_tree"
   ]
  },
  {
   "cell_type": "code",
   "execution_count": null,
   "metadata": {},
   "outputs": [],
   "source": [
    "min_tree_network = connected_network.subgraph(edge_filter=min_tree)\n",
    "min_tree_network.graph"
   ]
  },
  {
   "cell_type": "code",
   "execution_count": null,
   "metadata": {},
   "outputs": [],
   "source": [
    "tree_nodelink = NodeLink(min_tree_network)\n",
    "tree_nodelink.layout_nodes(\n",
    "    method=\"geographical\", geodataframe=network_nodes, node_column=\"id\"\n",
    ")"
   ]
  },
  {
   "cell_type": "code",
   "execution_count": null,
   "metadata": {},
   "outputs": [],
   "source": [
    "fig, ax = figure_from_geodataframe(zones[zones[\"NOM_COMUNA\"] == \"SANTIAGO\"], height=7)\n",
    "\n",
    "comunas_urbanas.plot(ax=ax, facecolor=\"none\", edgecolor=\"#abacab\", zorder=1)\n",
    "\n",
    "nodelink.plot(\n",
    "    ax,\n",
    "    nodes=dict(color=\"black\", edgecolor=\"none\", node_size=10, alpha=0.75),\n",
    "    edges=dict(alpha=0.95, linewidth=2, palette='Greys', ),\n",
    "    zorder=2,\n",
    ")\n",
    "\n",
    "tree_nodelink.plot(\n",
    "    ax,\n",
    "    nodes=dict(color=\"black\", edgecolor=\"none\", node_size=1, alpha=0.75),\n",
    "    edges=dict(alpha=0.95, linewidth=5, color='red'),\n",
    "    zorder=2,\n",
    ")\n",
    "\n",
    "fig.tight_layout()"
   ]
  },
  {
   "cell_type": "code",
   "execution_count": null,
   "metadata": {},
   "outputs": [],
   "source": [
    "bike_nodes, bike_edges  = osm.get_network(nodes=True, network_type='cycling')"
   ]
  },
  {
   "cell_type": "code",
   "execution_count": null,
   "metadata": {},
   "outputs": [],
   "source": [
    "bike_cycleways = bike_edges.pipe(lambda x: x[pd.notnull(x[\"tags\"])]).pipe(\n",
    "    lambda x: x[x[\"tags\"].str.contains(\"cycleway|bicycle\")]\n",
    ")\n",
    "bike_cycleways\n"
   ]
  },
  {
   "cell_type": "code",
   "execution_count": null,
   "metadata": {},
   "outputs": [],
   "source": [
    "bike_edges['cycleway'].value_counts()"
   ]
  },
  {
   "cell_type": "code",
   "execution_count": null,
   "metadata": {},
   "outputs": [],
   "source": [
    "bike_lanes = bike_edges[pd.notnull(bike_edges['cycleway'])]\n",
    "bike_lanes.plot()"
   ]
  },
  {
   "cell_type": "code",
   "execution_count": null,
   "metadata": {},
   "outputs": [],
   "source": [
    "fig, ax = figure_from_geodataframe(zones[zones[\"NOM_COMUNA\"].isin([\"SANTIAGO\", \"PROVIDENCIA\", \"ÑUÑOA\", 'LAS CONDES', 'LA FLORIDA'])], height=7)\n",
    "\n",
    "comunas_urbanas.plot(ax=ax, facecolor=\"none\", edgecolor=\"#abacab\", zorder=1)\n",
    "bike_lanes.plot(ax=ax)\n",
    "bike_cycleways.plot(ax=ax)\n",
    "\n",
    "fig.tight_layout()"
   ]
  },
  {
   "cell_type": "code",
   "execution_count": null,
   "metadata": {},
   "outputs": [],
   "source": [
    "bike_relevant_nodes = set(bike_cycleways['u']) | set(bike_lanes['u']) | set(bike_cycleways['v']) | set(bike_lanes['v'])\n",
    "len(bike_relevant_nodes)"
   ]
  },
  {
   "cell_type": "code",
   "execution_count": null,
   "metadata": {},
   "outputs": [],
   "source": [
    "bike_network = Network.from_edgelist(\n",
    "    bike_edges[bike_edges['u'].isin(bike_relevant_nodes) & bike_edges['v'].isin(bike_relevant_nodes)],\n",
    "    source=\"u\",\n",
    "    target=\"v\",\n",
    "    weight=\"length\",\n",
    ")"
   ]
  },
  {
   "cell_type": "code",
   "execution_count": null,
   "metadata": {},
   "outputs": [],
   "source": [
    "bike_components = bike_network.connected_components(directed=False)\n",
    "bike_components"
   ]
  },
  {
   "cell_type": "code",
   "execution_count": null,
   "metadata": {},
   "outputs": [],
   "source": [
    "fig, ax = figure_from_geodataframe(\n",
    "    zones[\n",
    "        zones[\"NOM_COMUNA\"].isin(\n",
    "            [\"SANTIAGO\", \"PROVIDENCIA\", \"ÑUÑOA\", \"LAS CONDES\", \"LA FLORIDA\"]\n",
    "        )\n",
    "    ],\n",
    "    height=7,\n",
    ")\n",
    "\n",
    "comunas_urbanas.plot(ax=ax, facecolor=\"none\", edgecolor=\"#abacab\", zorder=1)\n",
    "\n",
    "bike_edges.join(\n",
    "    pd.Series(\n",
    "        bike_components[0].a, index=bike_network.node_map.keys(), name=\"component\"\n",
    "    ),\n",
    "    on=\"u\",\n",
    ").plot(column=\"component\", ax=ax)\n",
    "\n",
    "fig.tight_layout()\n"
   ]
  },
  {
   "cell_type": "code",
   "execution_count": null,
   "metadata": {},
   "outputs": [],
   "source": [
    "bike_largest_component = bike_network.largest_connected_component(directed=False)\n",
    "bike_lcc_nodelink = NodeLink(bike_largest_component)\n",
    "bike_lcc_nodelink.layout_nodes(\n",
    "    method=\"geographical\", geodataframe=bike_nodes, node_column=\"id\"\n",
    ")"
   ]
  },
  {
   "cell_type": "code",
   "execution_count": null,
   "metadata": {},
   "outputs": [],
   "source": [
    "fig, ax = figure_from_geodataframe(\n",
    "    zones[\n",
    "        zones[\"NOM_COMUNA\"].isin(\n",
    "            [\"SANTIAGO\", \"PROVIDENCIA\", \"ÑUÑOA\", \"LAS CONDES\", \"LA FLORIDA\"]\n",
    "        )\n",
    "    ],\n",
    "    height=7,\n",
    ")\n",
    "\n",
    "comunas_urbanas.plot(ax=ax, facecolor=\"none\", edgecolor=\"#abacab\", zorder=1)\n",
    "\n",
    "bike_lcc_nodelink.plot(\n",
    "    ax,\n",
    "    nodes=dict(color=\"black\", edgecolor=\"none\", node_size=1, alpha=0.75),\n",
    "    edges=dict(alpha=0.95, linewidth=2),\n",
    "    zorder=2,\n",
    ")\n",
    "\n",
    "\n",
    "fig.tight_layout()"
   ]
  }
 ],
 "metadata": {
  "kernelspec": {
   "display_name": "aves",
   "language": "python",
   "name": "python3"
  },
  "language_info": {
   "codemirror_mode": {
    "name": "ipython",
    "version": 3
   },
   "file_extension": ".py",
   "mimetype": "text/x-python",
   "name": "python",
   "nbconvert_exporter": "python",
   "pygments_lexer": "ipython3",
   "version": "3.9.15"
  },
  "orig_nbformat": 4
 },
 "nbformat": 4,
 "nbformat_minor": 2
}

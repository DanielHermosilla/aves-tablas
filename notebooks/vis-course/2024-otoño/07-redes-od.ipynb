{
 "cells": [
  {
   "cell_type": "markdown",
   "metadata": {},
   "source": [
    "# Redes Origen-Destino\n",
    "\n",
    "En este notebook exploraremos los viajes de la Encuesta Origen-Destino 2012 de Santiago utilizando visualizaciones de redes.\n"
   ]
  },
  {
   "cell_type": "markdown",
   "metadata": {},
   "source": [
    "## Preámbulo y Carga de Datos"
   ]
  },
  {
   "cell_type": "code",
   "execution_count": null,
   "metadata": {},
   "outputs": [],
   "source": [
    "from dotenv import load_dotenv\n",
    "import os\n",
    "import sys\n",
    "from pathlib import Path\n",
    "\n",
    "load_dotenv()\n",
    "\n",
    "AVES_ROOT = Path(os.environ['AVES_ROOT'])\n",
    "EOD_PATH = AVES_ROOT / \"data\" / \"external\" / \"EOD_STGO\""
   ]
  },
  {
   "cell_type": "code",
   "execution_count": null,
   "metadata": {},
   "outputs": [],
   "source": [
    "CENSUS_GEO_ROOT = Path(os.environ['CENSUS_GEO_ROOT'])"
   ]
  },
  {
   "cell_type": "code",
   "execution_count": null,
   "metadata": {},
   "outputs": [],
   "source": [
    "import matplotlib.pyplot as plt\n",
    "import seaborn as sns\n",
    "import pandas as pd\n",
    "import geopandas as gpd\n",
    "\n",
    "from aves.config import setup_style\n",
    "\n",
    "from aves.data import eod\n",
    "from aves.data.census.loading import read_census_map\n",
    "from aves.features.utils import normalize_rows\n",
    "\n",
    "setup_style()"
   ]
  },
  {
   "cell_type": "code",
   "execution_count": null,
   "metadata": {},
   "outputs": [],
   "source": [
    "comunas = read_census_map('comuna', path=CENSUS_GEO_ROOT / \"R13\")"
   ]
  },
  {
   "cell_type": "code",
   "execution_count": null,
   "metadata": {},
   "outputs": [],
   "source": [
    "zones = gpd.read_file(AVES_ROOT / 'data' / 'processed' / 'scl_zonas_urbanas.json').set_index('ID')\n",
    "zones.head()"
   ]
  },
  {
   "cell_type": "code",
   "execution_count": null,
   "metadata": {},
   "outputs": [],
   "source": [
    "viajes = eod.read_trips(EOD_PATH)\n",
    "\n",
    "# descartamos sectores que no sean relevantes en los orígenes y destinos de los viajes\n",
    "viajes = viajes[\n",
    "    (viajes[\"SectorOrigen\"] != \"Exterior a RM\")\n",
    "    & (viajes[\"SectorDestino\"] != \"Exterior a RM\")\n",
    "    & (viajes[\"SectorOrigen\"] != \"Extensión Sur-Poniente\")\n",
    "    & (viajes[\"SectorDestino\"] != \"Extensión Sur-Poniente\")\n",
    "    & pd.notnull(viajes[\"SectorOrigen\"])\n",
    "    & pd.notnull(viajes[\"SectorDestino\"])\n",
    "]\n",
    "\n",
    "print(len(viajes))\n"
   ]
  },
  {
   "cell_type": "code",
   "execution_count": null,
   "metadata": {},
   "outputs": [],
   "source": [
    "personas = eod.read_people(EOD_PATH)\n",
    "viajes_persona = viajes.merge(personas)"
   ]
  },
  {
   "cell_type": "code",
   "execution_count": null,
   "metadata": {},
   "outputs": [],
   "source": [
    "viajes_persona[\"Peso\"] = (\n",
    "    viajes_persona[\"FactorExpansion\"] * viajes_persona[\"FactorPersona\"]\n",
    ")\n"
   ]
  },
  {
   "cell_type": "markdown",
   "metadata": {},
   "source": [
    "## ¿Cómo se relacionan las comunas de acuerdo a los viajes entre ellas, por propósito?"
   ]
  },
  {
   "cell_type": "markdown",
   "metadata": {},
   "source": [
    "Primero, preparemos el `GeoDataFrame` de comunas. Tenemos que quedarnos solo con las comunas que nos interesan, y tenemos que asegurarnos que tenga los mismos nombres que en el `DataFrame` de viajes."
   ]
  },
  {
   "cell_type": "code",
   "execution_count": null,
   "metadata": {},
   "outputs": [],
   "source": [
    "#zones.head()"
   ]
  },
  {
   "cell_type": "markdown",
   "metadata": {},
   "source": [
    "Hacemos dos cosas:\n",
    "\n",
    "- Como tenemos las zonas urbanas, filtramos el `GeoDataFrame` para quedarnos solamente con aquellas comunas que están en el `DataFrame` de zonas.\n",
    "- Hacemos un diccionario de `código de comuna -> nombre de comuna` a partir de las zonas y lo aplicamos."
   ]
  },
  {
   "cell_type": "code",
   "execution_count": null,
   "metadata": {},
   "outputs": [],
   "source": [
    "comunas_urbanas = comunas[comunas['COMUNA'].isin(zones['Com'].unique())].drop('NOM_COMUNA', axis=1).copy()\n",
    "comunas_urbanas['NombreComuna'] = comunas_urbanas['COMUNA'].map(dict(zip(zones['Com'], zones['Comuna'])))\n",
    "comunas_urbanas.plot(facecolor=\"none\", edgecolor=\"#abacab\")"
   ]
  },
  {
   "cell_type": "markdown",
   "metadata": {},
   "source": [
    "El mapa es demasiado grande, así que lo recortaremos utilizando las zonas que conocemos:"
   ]
  },
  {
   "cell_type": "code",
   "execution_count": null,
   "metadata": {},
   "outputs": [],
   "source": [
    "from aves.features.geo import clip_area_geodataframe"
   ]
  },
  {
   "cell_type": "code",
   "execution_count": null,
   "metadata": {},
   "outputs": [],
   "source": [
    "bounding_box = zones.total_bounds\n",
    "bounding_box"
   ]
  },
  {
   "cell_type": "code",
   "execution_count": null,
   "metadata": {},
   "outputs": [],
   "source": [
    "comunas_urbanas = clip_area_geodataframe(comunas_urbanas, zones.total_bounds, buffer=0.05)"
   ]
  },
  {
   "cell_type": "markdown",
   "metadata": {},
   "source": [
    "Calculamos la lista de aristas de nuestra red, es decir, la cantidad de viajes de una comuna a otra. En este caso, lo haremos con los viajes al trabajo."
   ]
  },
  {
   "cell_type": "code",
   "execution_count": null,
   "metadata": {},
   "outputs": [],
   "source": [
    "matriz = (\n",
    "    viajes_persona[\n",
    "        (viajes_persona[\"Proposito\"] == \"Al trabajo\")\n",
    "        & (viajes_persona[\"ComunaOrigen\"].isin(comunas_urbanas[\"NombreComuna\"]))\n",
    "        & (viajes_persona[\"ComunaDestino\"].isin(comunas_urbanas[\"NombreComuna\"]))\n",
    "    ]\n",
    "    .groupby([\"ComunaOrigen\", \"ComunaDestino\"])\n",
    "    .agg(n_viajes=(\"Peso\", \"sum\"))\n",
    "    .reset_index()\n",
    ")\n",
    "\n",
    "matriz.head()\n"
   ]
  },
  {
   "cell_type": "markdown",
   "metadata": {},
   "source": [
    "Podemos convertir esta lista en una matriz de adyacencia. Veamos como luce esta matriz con el esquema `adjacency_matrix`. Como vimos en clase, utiliza la misma codificación visual que el `heatmap` de tablas, por lo que podemos usar `seaborn.heatmap` para visualizarla:"
   ]
  },
  {
   "cell_type": "code",
   "execution_count": null,
   "metadata": {},
   "outputs": [],
   "source": [
    "fig, ax = plt.subplots(figsize=(12, 9))\n",
    "sns.heatmap(\n",
    "    matriz.set_index([\"ComunaOrigen\", \"ComunaDestino\"])[\"n_viajes\"]\n",
    "    .unstack(fill_value=0)\n",
    "    .pipe(normalize_rows),\n",
    "    cmap=\"inferno_r\",\n",
    "    linewidth=1,\n",
    ")\n"
   ]
  },
  {
   "cell_type": "markdown",
   "metadata": {},
   "source": [
    "También podemos utilizar el dataframe `matriz` como una lista de aristas que podemos visualizar con un gráfico NodeLink. A diferencia de la clase pasada, donde debíamos calcular la posición de cada nodo, al utilizar información geográfica los nodos ya tienen una posición."
   ]
  },
  {
   "cell_type": "code",
   "execution_count": null,
   "metadata": {},
   "outputs": [],
   "source": [
    "from aves.models.network import Network\n",
    "\n",
    "od_network = Network.from_edgelist(\n",
    "    # graficamos los viajes más representativos\n",
    "    matriz[(matriz[\"n_viajes\"] > matriz[\"n_viajes\"].quantile(0.75)) & (matriz['ComunaOrigen'] != matriz['ComunaDestino'])],\n",
    "    source=\"ComunaOrigen\",\n",
    "    target=\"ComunaDestino\",\n",
    "    weight=\"n_viajes\",\n",
    ")\n"
   ]
  },
  {
   "cell_type": "code",
   "execution_count": null,
   "metadata": {},
   "outputs": [],
   "source": [
    "matriz"
   ]
  },
  {
   "cell_type": "code",
   "execution_count": null,
   "metadata": {},
   "outputs": [],
   "source": [
    "from aves.visualization.networks import NodeLink\n",
    "\n",
    "nodelink = NodeLink(od_network)\n",
    "nodelink.layout_nodes(method='geographical', geodataframe=comunas_urbanas, node_column='NombreComuna')"
   ]
  },
  {
   "cell_type": "markdown",
   "metadata": {},
   "source": [
    "En esta ocasión tenemos una red dirigida. Sabemos que los viajes van desde una comuna de origen hasta una comuna de destino. Por tanto, necesitamos una manera de identificar la dirección de las aristas. Una manera de hacerlo es pintarlas con un gradiente de color donde el azul representa el origen y el rojo representa el destino:"
   ]
  },
  {
   "cell_type": "code",
   "execution_count": null,
   "metadata": {},
   "outputs": [],
   "source": [
    "nodelink.set_edge_drawing('origin-destination')"
   ]
  },
  {
   "cell_type": "code",
   "execution_count": null,
   "metadata": {},
   "outputs": [],
   "source": [
    "od_network.detect_communities(\n",
    "    method=\"ranked\", hierarchical_covariate_type=\"discrete-poisson\"\n",
    ")\n"
   ]
  },
  {
   "cell_type": "code",
   "execution_count": null,
   "metadata": {},
   "outputs": [],
   "source": [
    "nodelink.set_node_drawing(\"plain\", weights='in_degree', categories='community')\n"
   ]
  },
  {
   "cell_type": "code",
   "execution_count": null,
   "metadata": {},
   "outputs": [],
   "source": [
    "nodelink.set_edge_drawing(method=\"weighted\", curved=True, k=10)\n"
   ]
  },
  {
   "cell_type": "code",
   "execution_count": null,
   "metadata": {},
   "outputs": [],
   "source": [
    "from aves.visualization.figures import figure_from_geodataframe\n",
    "\n",
    "fig, ax = figure_from_geodataframe(zones, height=7)\n",
    "\n",
    "# contexto\n",
    "zones.plot(ax=ax, facecolor='#efefef', edgecolor='white', zorder=0)\n",
    "comunas_urbanas.plot(ax=ax, facecolor='none', edgecolor='#abacab', zorder=1)\n",
    "\n",
    "nodelink.plot(ax, nodes=dict(palette='PuRd', edgecolor='black', node_size=150, alpha=0.95), edges=dict(alpha=0.5), zorder=2)\n",
    "\n",
    "ax.set_title('Viajes al trabajo en Santiago (en días laborales, EOD 2012)')\n",
    "\n",
    "fig.tight_layout()"
   ]
  },
  {
   "cell_type": "code",
   "execution_count": null,
   "metadata": {},
   "outputs": [],
   "source": [
    "[a[0] == a[1] for a in zip(range(10), range(10))]"
   ]
  },
  {
   "cell_type": "markdown",
   "metadata": {},
   "source": [
    "En comparación con la matriz de adyacencia, en esta visualización además de identificar las relaciones entre comunas podemos apreciar el contexto geográfico. Antes de elegir una de estas dos visualizaciones, debemos considerar lo siguiente:\n",
    "\n",
    "- ¿Nos interesa conocer la relación geográfica entre orígenes y destinos? Por ej., ¿queremos saber si comunas vecinas se comportan similar?¿Nos interesa la distancia de los viajes? En este caso, `node_link` es una buena solución.\n",
    "- ¿Necesitamos ver _todas_ las aristas? Si es así, el gráfico de `node_link` podría ser inadecuado, ya que no podemos cambiar la posición de los nodos, ni podemos ver las aristas en las que el origen y destino son iguales. Debemos usar `adjacency_matrix`.\n",
    "\n",
    "**Ejercicio Propuesto**: realizar el mismo análisis para distintos propósitos de viaje. Realizarlo a nivel de zonas (ver README de aves para un ejemplo con zonas)."
   ]
  },
  {
   "cell_type": "code",
   "execution_count": null,
   "metadata": {},
   "outputs": [],
   "source": [
    "viajes_persona['ModoDifusion']"
   ]
  },
  {
   "cell_type": "code",
   "execution_count": null,
   "metadata": {},
   "outputs": [],
   "source": [
    "matriz_zonas = (viajes_persona[(viajes_persona[\"Proposito\"].isin([\"Al trabajo\", 'Al estudio'])) & (viajes_persona['ZonaOrigen'] != viajes_persona['ZonaDestino'])\n",
    "                             & (viajes_persona['ZonaOrigen'].isin(zones.index))\n",
    "                             & (viajes_persona['ZonaDestino'].isin(zones.index))\n",
    "                             & (viajes_persona['ModoDifusion'] == 'Bip!')]\n",
    "                    .groupby(['ComunaOrigen', 'ZonaOrigen', 'ZonaDestino'])\n",
    "                    .agg(n_viajes=('Peso', 'sum'))\n",
    "                    .sort_values('n_viajes', ascending=False)\n",
    "                    .assign(cumsum_viajes=lambda x: x['n_viajes'].cumsum())\n",
    "                    .assign(cumsum_viajes=lambda x: x['cumsum_viajes'] / x['cumsum_viajes'].max())\n",
    "                    .reset_index()\n",
    ")\n",
    "\n",
    "matriz_zonas.head()"
   ]
  },
  {
   "cell_type": "code",
   "execution_count": null,
   "metadata": {},
   "outputs": [],
   "source": [
    "zone_od_network = Network.from_edgelist(\n",
    "    matriz_zonas[matriz_zonas['cumsum_viajes'] <= 0.5], source=\"ZonaOrigen\", target=\"ZonaDestino\", weight=\"n_viajes\"\n",
    ")#.largest_connected_component(directed=True)\n",
    "zone_od_network.network, zone_od_network.num_vertices, zone_od_network.num_edges"
   ]
  },
  {
   "cell_type": "code",
   "execution_count": null,
   "metadata": {},
   "outputs": [],
   "source": [
    "merged_zones = zones.reset_index().dissolve('ID')"
   ]
  },
  {
   "cell_type": "code",
   "execution_count": null,
   "metadata": {},
   "outputs": [],
   "source": [
    "zone_nodelink = NodeLink(zone_od_network)\n",
    "zone_nodelink.layout_nodes(method=\"geographical\", geodataframe=merged_zones)\n",
    "zone_nodelink.set_node_drawing(\"plain\", weights='in_degree')\n",
    "zone_nodelink.set_edge_drawing(method=\"origin-destination\")"
   ]
  },
  {
   "cell_type": "code",
   "execution_count": null,
   "metadata": {},
   "outputs": [],
   "source": [
    "merged_zones"
   ]
  },
  {
   "cell_type": "code",
   "execution_count": null,
   "metadata": {},
   "outputs": [],
   "source": [
    "fig, ax = figure_from_geodataframe(zones, height=7)\n",
    "\n",
    "# contexto\n",
    "zones.plot(ax=ax, facecolor='#efefef', edgecolor='white', zorder=0)\n",
    "comunas_urbanas.plot(ax=ax, facecolor='none', edgecolor='#abacab', zorder=1)\n",
    "\n",
    "zone_nodelink.plot(ax, nodes=dict(color='white', edgecolor='black', node_size=150, alpha=0.95), edges=dict(alpha=0.5), zorder=2)\n",
    "\n",
    "ax.set_title('Viajes al trabajo en Santiago (en días laborales, EOD 2012)')\n",
    "\n",
    "fig.tight_layout()"
   ]
  },
  {
   "cell_type": "code",
   "execution_count": null,
   "metadata": {},
   "outputs": [],
   "source": [
    "zone_nodelink.bundle_edges(\n",
    "     method=\"force-directed\", K=1, S=0.005, I=6, compatibility_threshold=0.65, C=6\n",
    ")"
   ]
  },
  {
   "cell_type": "code",
   "execution_count": null,
   "metadata": {},
   "outputs": [],
   "source": [
    "fig, ax = figure_from_geodataframe(zones, height=7)\n",
    "\n",
    "# contexto\n",
    "zones.plot(ax=ax, facecolor='#efefef', edgecolor='white', zorder=0)\n",
    "comunas_urbanas.plot(ax=ax, facecolor='none', edgecolor='#abacab', zorder=1)\n",
    "\n",
    "zone_nodelink.plot(ax, nodes=dict(color='white', edgecolor='black', node_size=50, alpha=0.95), edges=dict(alpha=0.5), zorder=2)\n",
    "\n",
    "ax.set_title('Viajes al trabajo en Santiago')\n",
    "\n",
    "fig.tight_layout()"
   ]
  },
  {
   "cell_type": "code",
   "execution_count": null,
   "metadata": {},
   "outputs": [],
   "source": [
    "viajes_persona['DondeEstudia'].value_counts()"
   ]
  },
  {
   "cell_type": "code",
   "execution_count": null,
   "metadata": {},
   "outputs": [],
   "source": [
    "viajes_persona.columns"
   ]
  },
  {
   "cell_type": "code",
   "execution_count": null,
   "metadata": {},
   "outputs": [],
   "source": [
    "study_network = Network.from_edgelist(\n",
    "    viajes_persona[\n",
    "        (viajes_persona[\"Proposito\"] == \"Al estudio\")\n",
    "        & (viajes_persona[\"ZonaOrigen\"] != viajes_persona[\"ZonaDestino\"])\n",
    "        #& (viajes_persona[\"ComunaOrigen\"] == \"La Pintana\")\n",
    "        & (viajes_persona[\"ZonaOrigen\"].isin(zones.index))\n",
    "        & (viajes_persona[\"ZonaDestino\"].isin(zones.index))\n",
    "        & (viajes_persona[\"DondeEstudia\"].between(6, 8))\n",
    "    ]\n",
    "    .groupby([\"ComunaOrigen\", \"ZonaOrigen\", \"ZonaDestino\"])\n",
    "    .agg(n_viajes=(\"Peso\", \"sum\"))\n",
    "    .sort_values(\"n_viajes\", ascending=False)\n",
    "    .assign(cumsum_viajes=lambda x: x[\"n_viajes\"].cumsum())\n",
    "    .assign(cumsum_viajes=lambda x: x[\"cumsum_viajes\"] / x[\"cumsum_viajes\"].max())\n",
    "    .reset_index()\n",
    "    .pipe(lambda x: x[x['cumsum_viajes'] <= 0.9]),\n",
    "    source=\"ZonaOrigen\",\n",
    "    target=\"ZonaDestino\",\n",
    "    weight=\"n_viajes\",\n",
    ")\n",
    "study_network"
   ]
  },
  {
   "cell_type": "code",
   "execution_count": null,
   "metadata": {},
   "outputs": [],
   "source": [
    "la_pintana_zones = zones[zones['Comuna'] == 'La Pintana'].index\n",
    "la_pintana_zones"
   ]
  },
  {
   "cell_type": "code",
   "execution_count": null,
   "metadata": {},
   "outputs": [],
   "source": [
    "from graph_tool.search import BFSVisitor, bfs_search, StopSearch\n",
    "\n",
    "class Visitor(BFSVisitor):\n",
    "    def __init__(self, edge_filter):\n",
    "        self.pred = study_network.graph.new_vertex_property(\"int64_t\")\n",
    "        self.dist = study_network.graph.new_vertex_property(\"int\")\n",
    "        self.edge_filter = edge_filter\n",
    "\n",
    "    def discover_vertex(self, u):\n",
    "        #print(\"-->\", u, \"has been discovered!\")\n",
    "        pass\n",
    "\n",
    "    def examine_vertex(self, u):\n",
    "        #print(u, \"has been examined...\")\n",
    "        pass\n",
    "\n",
    "    def tree_edge(self, e):\n",
    "        self.pred[e.target()] = int(e.source())\n",
    "        self.dist[e.target()] = self.dist[e.source()] + 1\n",
    "        #print('dist', self.dist[e.target()])\n",
    "        if self.dist[e.target()] == 1:\n",
    "            self.edge_filter[e] = True\n",
    "        else:\n",
    "            raise StopSearch()\n",
    "\n",
    "edge_filter = study_network.graph.new_edge_property('bool', False)\n",
    "for node_id in la_pintana_zones:\n",
    "    if node_id in study_network.node_map:\n",
    "        bfs_search(study_network.graph, study_network.node_map[node_id], Visitor(edge_filter))\n",
    "sum(edge_filter.a)"
   ]
  },
  {
   "cell_type": "code",
   "execution_count": null,
   "metadata": {},
   "outputs": [],
   "source": [
    "la_pintana_study = study_network.subgraph(edge_filter=edge_filter)\n",
    "la_pintana_study.graph"
   ]
  },
  {
   "cell_type": "code",
   "execution_count": null,
   "metadata": {},
   "outputs": [],
   "source": [
    "other_study = study_network.subgraph(\n",
    "    edge_filter=study_network.graph.new_edge_property(\n",
    "        \"bool\", ~edge_filter.a.astype(bool)\n",
    "    )\n",
    ")\n",
    "other_study.graph"
   ]
  },
  {
   "cell_type": "code",
   "execution_count": null,
   "metadata": {},
   "outputs": [],
   "source": [
    "other_nodelink = NodeLink(other_study)\n",
    "other_nodelink.layout_nodes(method=\"geographical\", geodataframe=merged_zones)\n",
    "other_nodelink.set_node_drawing(\"plain\", weights='in_degree')\n",
    "other_nodelink.set_edge_drawing(method=\"weighted\", k=5)\n",
    "other_nodelink.bundle_edges(\n",
    "     method=\"force-directed\", K=1, S=0.005, I=6, compatibility_threshold=0.65, C=6\n",
    ")"
   ]
  },
  {
   "cell_type": "code",
   "execution_count": null,
   "metadata": {},
   "outputs": [],
   "source": [
    "subgraph_nodelink = NodeLink(la_pintana_study)\n",
    "subgraph_nodelink.layout_nodes(method=\"geographical\", geodataframe=merged_zones)\n",
    "subgraph_nodelink.set_node_drawing(\"plain\", weights='in_degree')\n",
    "subgraph_nodelink.set_edge_drawing(method=\"origin-destination\")\n",
    "subgraph_nodelink.bundle_edges(\n",
    "     method=\"force-directed\", K=1, S=0.005, I=6, compatibility_threshold=0.65, C=6\n",
    ")"
   ]
  },
  {
   "cell_type": "code",
   "execution_count": null,
   "metadata": {},
   "outputs": [],
   "source": [
    "comunas_urbanas[comunas_urbanas['NombreComuna'] == 'La Pintana']"
   ]
  },
  {
   "cell_type": "code",
   "execution_count": null,
   "metadata": {},
   "outputs": [],
   "source": [
    "from aves.visualization.maps import add_basemap\n",
    "\n",
    "geocontext = zones.loc[study_network.node_map.keys()]\n",
    "fig, ax = figure_from_geodataframe(geocontext, height=7)\n",
    "\n",
    "add_basemap(ax, AVES_ROOT / \"data\" / \"processed\" / \"scl_positron_12_balanced.tif\", zones.loc[study_network.node_map.keys()])\n",
    "\n",
    "# contexto\n",
    "#zones.plot(ax=ax, facecolor='#efefef', edgecolor='white', zorder=0)\n",
    "comunas_urbanas[comunas_urbanas['NombreComuna'] == 'La Pintana'].plot(ax=ax, facecolor='none', edgecolor='#333333', linewidth=2, zorder=1)\n",
    "\n",
    "other_nodelink.plot(ax, nodes=dict(color='white', edgecolor='black', node_size=50, alpha=0.95), edges=dict(alpha=0.5, linewidth=0.5), zorder=2)\n",
    "\n",
    "subgraph_nodelink.plot(ax, nodes=dict(color='white', edgecolor='black', node_size=50, alpha=0.95), edges=dict(alpha=0.75, linewidth=1.5), zorder=2)\n",
    "\n",
    "ax.set_title('Viajes a educación superior desde La Pintana')\n",
    "\n",
    "fig.tight_layout()"
   ]
  },
  {
   "cell_type": "code",
   "execution_count": null,
   "metadata": {},
   "outputs": [],
   "source": []
  }
 ],
 "metadata": {
  "kernelspec": {
   "display_name": "Python 3.8.12 ('aves')",
   "language": "python",
   "name": "python3"
  },
  "language_info": {
   "codemirror_mode": {
    "name": "ipython",
    "version": 3
   },
   "file_extension": ".py",
   "mimetype": "text/x-python",
   "name": "python",
   "nbconvert_exporter": "python",
   "pygments_lexer": "ipython3",
   "version": "3.11.6"
  },
  "vscode": {
   "interpreter": {
    "hash": "3b64740e6c93fa280fc0340b37d47e75672f67db75a9b952a66e9aaf0ff96ff2"
   }
  }
 },
 "nbformat": 4,
 "nbformat_minor": 4
}
